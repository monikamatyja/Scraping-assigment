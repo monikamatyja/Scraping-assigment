{
 "cells": [
  {
   "cell_type": "code",
   "execution_count": 2,
   "metadata": {},
   "outputs": [],
   "source": [
    "# Our jupyter/datascience-notebook Docker container comes with \n",
    "# BeautifulSoup4 and requests, both popular libraries!\n",
    "\n",
    "from bs4 import BeautifulSoup\n",
    "import requests\n",
    "import pandas as pd\n",
    "from concurrent.futures import ThreadPoolExecutor"
   ]
  },
  {
   "cell_type": "markdown",
   "metadata": {},
   "source": [
    "## I chose the website selling board games. "
   ]
  },
  {
   "cell_type": "code",
   "execution_count": 3,
   "metadata": {},
   "outputs": [],
   "source": [
    "START_URL = 'https://boardgames.com/collections/all'"
   ]
  },
  {
   "cell_type": "markdown",
   "metadata": {},
   "source": [
    "## Get the names of the board games\n",
    "#### Normal scraping by defining:"
   ]
  },
  {
   "cell_type": "code",
   "execution_count": 4,
   "metadata": {},
   "outputs": [],
   "source": [
    "%%time\n",
    "def get_titles1(soup):    \n",
    "    \"\"\" Returns a list of titles on the page \"\"\"\n",
    "    # the \"soup\" parameter is of the type that is\n",
    "    # returned by Beautiful Soup when it parses HTML.\n",
    "    # The function should then use the object to\n",
    "    # extract a list of titles (of the lego sets)\n",
    "    \n",
    "    # Lookup the documentation for Beautiful Soup\n",
    "    # Figure out how to select the text of the title\n",
    "    # of each legoset. A title should look like: \n",
    "    # \"10252: Volkswagen Beetle\"\n",
    "    titles_lego = []\n",
    "    #divs have different classes but we need meta\n",
    "    metas = soup.find_all(\"div\",{\"class\":\"h4 grid-view-item__title\"})\n",
    "    for meta in metas:\n",
    "        titles_lego.append(meta.text)\n",
    "    return titles_lego\n",
    "\n",
    "def names(url):\n",
    "    \"\"\" Fetches Lego Bricks page and extracts titles \"\"\"\n",
    "    # Lookup the documentation to the \"requests\" library\n",
    "    # Use requests to make a get request to the\n",
    "    # url given in the argument \"url\" (which is a string)\n",
    "    # and get the raw HTML body of the response\n",
    "    r = requests.get(url)\n",
    "    # Use \"BeautifulSoup\" to parse this HTML. \n",
    "    soup = BeautifulSoup(r.text, \"html.parser\")\n",
    "    # Use the \"get_titles\" function to extract the\n",
    "    # titles from the BeautifulSoup object.\n",
    "    titles = get_titles1(soup)\n",
    "    # Return the titles\n",
    "    return titles"
   ]
  },
  {
   "cell_type": "code",
   "execution_count": 5,
   "metadata": {},
   "outputs": [],
   "source": [
    "game_names = names(START_URL)"
   ]
  },
  {
   "cell_type": "code",
   "execution_count": 6,
   "metadata": {},
   "outputs": [
    {
     "data": {
      "text/plain": [
       "['#Alternative Facts',\n",
       " '13 Minutes: The Cuban Missile Crisis',\n",
       " 'Abracada...What?',\n",
       " 'Among The Stars: Expanding the Alliance',\n",
       " 'Angry Birds Chutes & Ladders Editon',\n",
       " 'Animal Act',\n",
       " 'Apples to Apples',\n",
       " 'Arkham Horror',\n",
       " 'Awesome Kingdom: Tower of Hateskull',\n",
       " 'Bachelorette Drink or Dare Dice',\n",
       " 'Betrayal at House on the Hill',\n",
       " 'Better Me',\n",
       " 'Blood Rage',\n",
       " 'Boss Monster',\n",
       " 'Boss Monster 2: The Next Level',\n",
       " 'Buffy The Vampire Slayer: The Board Game',\n",
       " 'Candy Land',\n",
       " 'Cartoon Network Crossover Crisis Deck-Building Game',\n",
       " \"Cash 'N Guns\",\n",
       " 'Cat Tower',\n",
       " 'Censored Game',\n",
       " 'Chronology',\n",
       " 'Chutes and Ladders',\n",
       " 'Clank! A Deck Building Adventure',\n",
       " 'Clubs Card Game',\n",
       " 'Codenames Pictures',\n",
       " 'Codenames: Duet',\n",
       " 'Colt Express',\n",
       " 'Council of Verona',\n",
       " 'Council of Verona: Corruption Expansion',\n",
       " 'Coup',\n",
       " 'Dancing Eggs',\n",
       " 'Djubi Game',\n",
       " 'Dominion',\n",
       " \"Don't Be A Loser\",\n",
       " \"Don't Be A Loser Adult Expansion\",\n",
       " 'Dr. Beaker',\n",
       " 'Dr. Eureka Speed Logic Game',\n",
       " 'Dr. Microbe',\n",
       " 'Drunk Quest',\n",
       " 'Escape: Zombie City',\n",
       " \"Flick 'Em Up\",\n",
       " 'Flip Tricks',\n",
       " 'Flying Kiwis',\n",
       " 'Forbidden Desert',\n",
       " 'Friday',\n",
       " 'FUSE',\n",
       " 'Ghostbusters: The Board Game',\n",
       " 'Gloom',\n",
       " 'Go Go Gelato!']"
      ]
     },
     "execution_count": 6,
     "metadata": {},
     "output_type": "execute_result"
    }
   ],
   "source": [
    "game_names"
   ]
  },
  {
   "cell_type": "markdown",
   "metadata": {},
   "source": [
    "### I got the titles!! :) "
   ]
  },
  {
   "cell_type": "markdown",
   "metadata": {},
   "source": [
    "# I go into the seperate pages of websites"
   ]
  },
  {
   "cell_type": "code",
   "execution_count": 7,
   "metadata": {},
   "outputs": [],
   "source": [
    "response = requests.get(START_URL)\n",
    "soup = BeautifulSoup(response.text, 'html.parser')"
   ]
  },
  {
   "cell_type": "code",
   "execution_count": 8,
   "metadata": {},
   "outputs": [],
   "source": [
    "##Create the list of URLS\n",
    "\n",
    "list_test_url = []\n",
    "\n",
    "test_url = soup.select('div > div > div > div > div > div > a')\n",
    "\n",
    "for x in range(0, len(test_url)):\n",
    "    additem = (\"https://boardgames.com\" + test_url[x]['href'])\n",
    "    list_test_url.append(additem)\n",
    "    \n",
    "    \n",
    "list_test_url = list_test_url[:50]"
   ]
  },
  {
   "cell_type": "code",
   "execution_count": 9,
   "metadata": {},
   "outputs": [
    {
     "data": {
      "text/plain": [
       "['https://boardgames.com/products/alternative-facts-game',\n",
       " 'https://boardgames.com/products/13-minutes-game',\n",
       " 'https://boardgames.com/products/abracada-what-game',\n",
       " 'https://boardgames.com/products/among-stars-expanding-alliance-game',\n",
       " 'https://boardgames.com/products/angry-birds-chutes-ladders-editon-game',\n",
       " 'https://boardgames.com/products/animal-act-game',\n",
       " 'https://boardgames.com/products/apples-to-apples-game',\n",
       " 'https://boardgames.com/products/arkham-horror-game',\n",
       " 'https://boardgames.com/products/awesome-kingdom-tower-of-hateskull-game',\n",
       " 'https://boardgames.com/products/bachelorette-drink-or-dare-game',\n",
       " 'https://boardgames.com/products/betrayal-of-house-on-the-hill-game',\n",
       " 'https://boardgames.com/products/better-me-game',\n",
       " 'https://boardgames.com/products/blood-rage-game',\n",
       " 'https://boardgames.com/products/boss-monster-game',\n",
       " 'https://boardgames.com/products/boss-monster-2-the-next-level-game',\n",
       " 'https://boardgames.com/products/buffy-the-vampire-slayer-the-board-game',\n",
       " 'https://boardgames.com/products/candy-land-game',\n",
       " 'https://boardgames.com/products/cartoon-network-crossover-crisis-deck-building-game',\n",
       " 'https://boardgames.com/products/cash-n-guns-2-game',\n",
       " 'https://boardgames.com/products/cat-tower-game',\n",
       " 'https://boardgames.com/products/censored-game',\n",
       " 'https://boardgames.com/products/chronology-game',\n",
       " 'https://boardgames.com/products/chutes-and-ladders-game',\n",
       " 'https://boardgames.com/products/clank-game',\n",
       " 'https://boardgames.com/products/clubs-card-game',\n",
       " 'https://boardgames.com/products/codenames-pictures-game',\n",
       " 'https://boardgames.com/products/codenames-duet-game',\n",
       " 'https://boardgames.com/products/colt-express-game',\n",
       " 'https://boardgames.com/products/council-of-verona-game',\n",
       " 'https://boardgames.com/products/council-verona-corruption-expansion-game',\n",
       " 'https://boardgames.com/products/coup-game',\n",
       " 'https://boardgames.com/products/dancing-eggs-game',\n",
       " 'https://boardgames.com/products/djubi-game',\n",
       " 'https://boardgames.com/products/dominion-game',\n",
       " 'https://boardgames.com/products/dont-be-a-loser-game',\n",
       " 'https://boardgames.com/products/dont-be-a-loser-game-expansion',\n",
       " 'https://boardgames.com/products/dr-beaker-game',\n",
       " 'https://boardgames.com/products/dr-eureka-speed-logic-game',\n",
       " 'https://boardgames.com/products/dr-microbe-game',\n",
       " 'https://boardgames.com/products/drunk-quest-game',\n",
       " 'https://boardgames.com/products/escape-zombie-city-game',\n",
       " 'https://boardgames.com/products/flick-em-up-game',\n",
       " 'https://boardgames.com/products/flip-tricks-game',\n",
       " 'https://boardgames.com/products/flying-kiwis-game',\n",
       " 'https://boardgames.com/products/forbidden-desert-game',\n",
       " 'https://boardgames.com/products/friday-game',\n",
       " 'https://boardgames.com/products/fuse-game',\n",
       " 'https://boardgames.com/products/ghostbusters-the-board-game',\n",
       " 'https://boardgames.com/products/gloom-game',\n",
       " 'https://boardgames.com/products/go-go-gelato-game']"
      ]
     },
     "execution_count": 9,
     "metadata": {},
     "output_type": "execute_result"
    }
   ],
   "source": [
    "list_test_url"
   ]
  },
  {
   "cell_type": "code",
   "execution_count": 10,
   "metadata": {},
   "outputs": [],
   "source": [
    "##Create a soup item for an individual URL (For testing only -- don't end up using it)\n",
    "\n",
    "individual_url = 'https://boardgames.com/products/alternative-facts-game'\n",
    "response2 = requests.get(individual_url)\n",
    "soup2 = BeautifulSoup(response2.text, 'html.parser')"
   ]
  },
  {
   "cell_type": "markdown",
   "metadata": {},
   "source": [
    "# Getting names again"
   ]
  },
  {
   "cell_type": "code",
   "execution_count": 18,
   "metadata": {},
   "outputs": [
    {
     "data": {
      "text/plain": [
       "'#Alternative Facts'"
      ]
     },
     "execution_count": 18,
     "metadata": {},
     "output_type": "execute_result"
    }
   ],
   "source": [
    "name = soup2.find_all(\"h1\",{\"class\":\"product-single__title\"})\n",
    "name[0].text"
   ]
  },
  {
   "cell_type": "code",
   "execution_count": 12,
   "metadata": {},
   "outputs": [
    {
     "name": "stdout",
     "output_type": "stream",
     "text": [
      "Wall time: 0 ns\n"
     ]
    }
   ],
   "source": [
    "%%time\n",
    "\n",
    "##Create a function for getting the current prices\n",
    "\n",
    "list_names = []\n",
    "\n",
    "def get_names(url): \n",
    "    \n",
    "    ##creates a soup item for each url starting with the starting url (given)\n",
    "    response0 = requests.get(url)\n",
    "    soup0 = BeautifulSoup(response0.text, 'html.parser')\n",
    "    \n",
    "    #this is what goes into the list_current_prices\n",
    "    name = soup0.find_all(\"h1\",{\"class\":\"product-single__title\"})\n",
    "    \n",
    "    list_names.append(name[0].text)"
   ]
  },
  {
   "cell_type": "code",
   "execution_count": 13,
   "metadata": {},
   "outputs": [
    {
     "name": "stdout",
     "output_type": "stream",
     "text": [
      "['13 Minutes: The Cuban Missile Crisis', '#Alternative Facts', 'Arkham Horror', 'Animal Act', 'Abracada...What?', 'Better Me', 'Apples to Apples', 'Boss Monster', 'Awesome Kingdom: Tower of Hateskull', 'Bachelorette Drink or Dare Dice', 'Among The Stars: Expanding the Alliance', 'Candy Land', 'Cat Tower', 'Angry Birds Chutes & Ladders Editon', 'Betrayal at House on the Hill', \"Don't Be A Loser\", 'Council of Verona', 'Codenames: Duet', 'Colt Express', 'Blood Rage', 'Censored Game', 'Chronology', 'Boss Monster 2: The Next Level', 'Cartoon Network Crossover Crisis Deck-Building Game', 'Buffy The Vampire Slayer: The Board Game', 'Clubs Card Game', 'Djubi Game', 'Dr. Eureka Speed Logic Game', 'Clank! A Deck Building Adventure', \"Cash 'N Guns\", 'Council of Verona: Corruption Expansion', 'Codenames Pictures', 'Chutes and Ladders', 'Dr. Microbe', 'Dr. Beaker', 'Dancing Eggs', \"Don't Be A Loser Adult Expansion\", 'Coup', \"Flick 'Em Up\", 'Escape: Zombie City', 'Flying Kiwis', 'Dominion', 'Flip Tricks', 'Friday', 'Drunk Quest', 'Go Go Gelato!', 'FUSE', 'Ghostbusters: The Board Game', 'Forbidden Desert', 'Gloom']\n",
      "Wall time: 7.15 s\n"
     ]
    }
   ],
   "source": [
    "%%time\n",
    "\n",
    "list_names = []\n",
    "\n",
    "with ThreadPoolExecutor(50) as pool:\n",
    "    #rename to results0\n",
    "    results0 = pool.map(get_names, list_test_url)\n",
    "    \n",
    "\n",
    "print(list_names)"
   ]
  },
  {
   "cell_type": "markdown",
   "metadata": {},
   "source": [
    "# Getting original Prices"
   ]
  },
  {
   "cell_type": "code",
   "execution_count": 14,
   "metadata": {},
   "outputs": [
    {
     "data": {
      "text/plain": [
       "'$10.00'"
      ]
     },
     "execution_count": 14,
     "metadata": {},
     "output_type": "execute_result"
    }
   ],
   "source": [
    "##Find out how to get the original price for a single URL (Will transfer to a function)\n",
    "\n",
    "original_price = soup2.select('#ComparePrice-product-template')\n",
    "original_price[0].text"
   ]
  },
  {
   "cell_type": "code",
   "execution_count": 15,
   "metadata": {},
   "outputs": [
    {
     "name": "stdout",
     "output_type": "stream",
     "text": [
      "Wall time: 0 ns\n"
     ]
    }
   ],
   "source": [
    "%%time\n",
    "\n",
    "##Create a function for getting the original prices\n",
    "\n",
    "list_original_prices = []\n",
    "\n",
    "def get_original_prices(url): \n",
    "    \n",
    "    ##creates a soup item for each url starting with the starting url (given)\n",
    "    newresponse = requests.get(url)\n",
    "    newsoup = BeautifulSoup(newresponse.text, 'html.parser')\n",
    "    \n",
    "    #this is what goes into the list_original_prices\n",
    "    original_price = newsoup.select('#ComparePrice-product-template')\n",
    "    \n",
    "    if  original_price[0].text == '':\n",
    "        list_original_prices.append(\"No sale\")\n",
    "    else:\n",
    "        list_original_prices.append(original_price[0].text)\n",
    "    "
   ]
  },
  {
   "cell_type": "code",
   "execution_count": 16,
   "metadata": {},
   "outputs": [
    {
     "name": "stdout",
     "output_type": "stream",
     "text": [
      "['$10.00', '$10.99', '$34.99', '$29.95', '$19.99', '$19.95', '$26.99', '$59.95', '$29.99', 'No sale', '$49.99', '$80.00', '$79.99', '$24.99', '$24.99', '$39.99', '$10.99', '$39.99', '$39.99', '$19.99', '$25.00', '$19.99', '$10.99', '$59.99', '$14.99', '$19.99', '$19.99', '$39.99', '$19.99', '$12.99', '$14.99', '$20.00', '$25.99', '$44.99', '$29.99', '$19.99', '$19.99', '$19.99', '$21.99', '$34.95', '$59.95', '$69.95', 'No sale', '$19.99', '$26.99', '$19.99', '$30.00', '$85.00', '$24.99', '$19.99']\n",
      "Wall time: 37.4 s\n"
     ]
    }
   ],
   "source": [
    "%%time\n",
    "\n",
    "list_original_prices = []\n",
    "\n",
    "##Call the function to get the original prices on every URL with a for loop (will speed up later with parallelization)\n",
    "for url in list_test_url:\n",
    "    get_original_prices(url)\n",
    "    \n",
    "print(list_original_prices)"
   ]
  },
  {
   "cell_type": "code",
   "execution_count": 17,
   "metadata": {},
   "outputs": [
    {
     "name": "stdout",
     "output_type": "stream",
     "text": [
      "['$10.00', 'No sale', '$80.00', '$34.99', '$29.99', '$49.99', '$59.95', '$26.99', '$19.95', '$20.00', '$19.99', '$10.99', '$19.99', '$19.99', '$24.99', '$29.95', '$24.99', '$79.99', '$10.99', '$39.99', '$59.95', '$34.95', '$25.00', '$25.99', '$10.99', '$39.99', '$14.99', '$44.99', '$29.99', '$19.99', '$19.99', '$39.99', '$19.99', '$12.99', '$14.99', '$59.99', '$19.99', '$85.00', '$69.95', '$24.99', '$26.99', '$21.99', '$39.99', '$19.99', '$19.99', 'No sale', '$19.99', '$30.00', '$19.99', '$19.99']\n",
      "Wall time: 7.03 s\n"
     ]
    }
   ],
   "source": [
    "%%time\n",
    "\n",
    "list_original_prices = []\n",
    "\n",
    "with ThreadPoolExecutor(50) as pool:\n",
    "    #rename to results1 to results2 \n",
    "    results1 = pool.map(get_original_prices, list_test_url)\n",
    "    \n",
    "\n",
    "print(list_original_prices)"
   ]
  },
  {
   "cell_type": "markdown",
   "metadata": {},
   "source": [
    "# Getting current price"
   ]
  },
  {
   "cell_type": "code",
   "execution_count": 19,
   "metadata": {},
   "outputs": [
    {
     "data": {
      "text/plain": [
       "'$9.00'"
      ]
     },
     "execution_count": 19,
     "metadata": {},
     "output_type": "execute_result"
    }
   ],
   "source": [
    "##Find out how to get the current price for a single URL (Will transfer to a function)\n",
    "\n",
    "current_price = soup2.select('#ProductPrice-product-template')\n",
    "current_price[0].text"
   ]
  },
  {
   "cell_type": "code",
   "execution_count": 20,
   "metadata": {},
   "outputs": [
    {
     "name": "stdout",
     "output_type": "stream",
     "text": [
      "Wall time: 0 ns\n"
     ]
    }
   ],
   "source": [
    "%%time\n",
    "\n",
    "##Create a function for getting the current prices\n",
    "\n",
    "list_current_prices = []\n",
    "\n",
    "def get_current_prices(url): \n",
    "    \n",
    "    ##creates a soup item for each url starting with the starting url (given)\n",
    "    response3 = requests.get(url)\n",
    "    soup3 = BeautifulSoup(response3.text, 'html.parser')\n",
    "    \n",
    "    #this is what goes into the list_current_prices\n",
    "    current_price = soup3.select('#ProductPrice-product-template')\n",
    "    \n",
    "    list_current_prices.append(current_price[0].text)"
   ]
  },
  {
   "cell_type": "code",
   "execution_count": 21,
   "metadata": {},
   "outputs": [
    {
     "name": "stdout",
     "output_type": "stream",
     "text": [
      "['$9.00', '$9.89', '$31.49', '$27.99', '$17.99', '$17.95', '$24.29', '$53.96', '$26.99', '$6.00', '$42.99', '$54.95', '$72.95', '$22.49', '$22.49', '$35.96', '$9.89', '$35.99', '$37.99', '$17.99', '$23.50', '$17.96', '$9.89', '$51.99', '$11.99', '$17.99', '$17.99', '$34.99', '$17.99', '$9.99', '$13.49', '$18.00', '$19.99', '$40.49', '$21.99', '$14.99', '$17.99', '$17.99', '$19.99', '$28.74', '$53.95', '$62.99', '$14.99', '$17.99', '$24.29', '$15.99', '$27.00', '$76.50', '$22.49', '$17.99']\n",
      "Wall time: 29.6 s\n"
     ]
    }
   ],
   "source": [
    "%%time\n",
    "\n",
    "list_current_prices = []\n",
    "\n",
    "##Call the function to get the original prices on every URL with a for loop (will speed up later with parallelization)\n",
    "for url in list_test_url:\n",
    "    get_current_prices(url)\n",
    "    \n",
    "print(list_current_prices)"
   ]
  },
  {
   "cell_type": "code",
   "execution_count": 22,
   "metadata": {},
   "outputs": [
    {
     "name": "stdout",
     "output_type": "stream",
     "text": [
      "['$9.89', '$17.95', '$27.99', '$9.00', '$26.99', '$31.49', '$24.29', '$17.99', '$72.95', '$53.96', '$23.50', '$17.99', '$42.99', '$54.95', '$37.99', '$6.00', '$35.96', '$22.49', '$17.96', '$9.89', '$22.49', '$18.00', '$9.89', '$35.99', '$40.49', '$17.99', '$9.99', '$19.99', '$21.99', '$17.99', '$17.99', '$17.99', '$51.99', '$11.99', '$13.49', '$14.99', '$34.99', '$28.74', '$19.99', '$53.95', '$62.99', '$17.99', '$27.00', '$22.49', '$17.99', '$15.99', '$17.99', '$14.99', '$24.29', '$76.50']\n",
      "Wall time: 6.59 s\n"
     ]
    }
   ],
   "source": [
    "%%time\n",
    "\n",
    "list_current_prices = []\n",
    "\n",
    "with ThreadPoolExecutor(50) as pool:\n",
    "    #rename to results3\n",
    "    results3 = pool.map(get_current_prices, list_test_url)\n",
    "    \n",
    "\n",
    "print(list_current_prices)"
   ]
  },
  {
   "cell_type": "markdown",
   "metadata": {},
   "source": [
    "# Getting age"
   ]
  },
  {
   "cell_type": "code",
   "execution_count": 23,
   "metadata": {},
   "outputs": [
    {
     "data": {
      "text/plain": [
       "' Ages 14+'"
      ]
     },
     "execution_count": 23,
     "metadata": {},
     "output_type": "execute_result"
    }
   ],
   "source": [
    "age = soup2.select('#ProductSection-product-template > div > div > div > ul.prodFeature > li')\n",
    "age[0].text\n"
   ]
  },
  {
   "cell_type": "code",
   "execution_count": 24,
   "metadata": {},
   "outputs": [
    {
     "name": "stdout",
     "output_type": "stream",
     "text": [
      "Wall time: 0 ns\n"
     ]
    }
   ],
   "source": [
    "%%time\n",
    "\n",
    "##Create a function for getting the current prices\n",
    "\n",
    "list_age = []\n",
    "\n",
    "def get_age(url): \n",
    "    \n",
    "    ##creates a soup item for each url starting with the starting url (given)\n",
    "    response5 = requests.get(url)\n",
    "    soup5 = BeautifulSoup(response5.text, 'html.parser')\n",
    "    \n",
    "    #this is what goes into the list_current_prices\n",
    "    age = soup5.select('#ProductSection-product-template > div > div > div > ul.prodFeature > li')\n",
    "    \n",
    "    list_age.append(age[0].text)"
   ]
  },
  {
   "cell_type": "code",
   "execution_count": 25,
   "metadata": {},
   "outputs": [
    {
     "name": "stdout",
     "output_type": "stream",
     "text": [
      "[' Ages 14+', ' Ages 10+', ' Ages 8+', ' Ages 12+', ' Ages 3+', ' Ages 4+', ' Ages 12+', ' Ages 12+', ' Ages 10+', ' Ages 21+', ' Ages 12+', ' Ages 12+', ' Ages 14+', ' Ages 13+', ' Ages 13+', ' 10 & up', ' Ages 3+', ' Ages 12+', ' Ages 10+', ' Ages 6+', ' Ages 18+', ' Ages 12+', ' Ages 3+', ' 12 & up', ' Ages 8+', ' Ages 14+', ' 11 & up', ' Ages 10+', ' Ages 13+', ' Ages 13+', ' Ages 9+', ' Ages 5+', ' Ages 8+', ' Ages 13+', ' Ages 13+', ' Ages 13+', ' Ages 8+', ' Ages 8+', ' Ages 8+', ' Ages 21+', ' 10 & up', ' Ages 7+', ' Ages 8+', ' Ages 5+', ' Ages 10+', ' Ages 13+', ' Ages 10+', ' 15 & up', ' Ages 13+', ' Ages 6+']\n",
      "Wall time: 28.4 s\n"
     ]
    }
   ],
   "source": [
    "%%time\n",
    "\n",
    "list_age = []\n",
    "\n",
    "##Call the function to get availability\n",
    "for url in list_test_url:\n",
    "    get_age(url)\n",
    "    \n",
    "print(list_age)"
   ]
  },
  {
   "cell_type": "code",
   "execution_count": 26,
   "metadata": {},
   "outputs": [
    {
     "name": "stdout",
     "output_type": "stream",
     "text": [
      "[' Ages 8+', ' Ages 14+', ' Ages 12+', ' Ages 10+', ' Ages 12+', ' Ages 12+', ' Ages 12+', ' Ages 10+', ' Ages 3+', ' Ages 12+', ' Ages 21+', ' Ages 4+', ' Ages 12+', ' Ages 13+', ' Ages 3+', ' Ages 14+', ' Ages 3+', ' Ages 10+', ' Ages 8+', ' 10 & up', ' Ages 13+', ' Ages 8+', ' 11 & up', ' Ages 14+', ' Ages 8+', ' Ages 5+', ' Ages 9+', ' Ages 8+', ' 12 & up', ' Ages 8+', ' Ages 6+', ' Ages 12+', ' Ages 18+', ' Ages 13+', ' Ages 10+', ' Ages 13+', ' Ages 13+', ' Ages 13+', ' Ages 21+', ' Ages 8+', ' Ages 10+', ' Ages 13+', ' Ages 7+', ' 10 & up', ' Ages 13+', ' Ages 10+', ' Ages 5+', ' 15 & up', ' Ages 13+', ' Ages 6+']\n",
      "Wall time: 6.45 s\n"
     ]
    }
   ],
   "source": [
    "%%time\n",
    "\n",
    "list_age = []\n",
    "\n",
    "with ThreadPoolExecutor(50) as pool:\n",
    "    #rename to results4\n",
    "    results4 = pool.map(get_age, list_test_url)\n",
    "    \n",
    "\n",
    "print(list_age)"
   ]
  },
  {
   "cell_type": "markdown",
   "metadata": {},
   "source": [
    "# Getting Description"
   ]
  },
  {
   "cell_type": "code",
   "execution_count": 27,
   "metadata": {},
   "outputs": [
    {
     "data": {
      "text/plain": [
       "\"What's more fun than making up click-baiting headlines? Getting the credit for it! Grab your friends, work together (or not), and prove your genius wordsmithing by making up some Alternative Facts!\""
      ]
     },
     "execution_count": 27,
     "metadata": {},
     "output_type": "execute_result"
    }
   ],
   "source": [
    "description = soup2.find_all(\"div\",{\"class\":\"inner\"})\n",
    "description[0].text.replace(\"\\n\", \"\")\n"
   ]
  },
  {
   "cell_type": "code",
   "execution_count": 28,
   "metadata": {},
   "outputs": [
    {
     "name": "stdout",
     "output_type": "stream",
     "text": [
      "Wall time: 0 ns\n"
     ]
    }
   ],
   "source": [
    "%%time\n",
    "\n",
    "##Create a function for getting the current prices\n",
    "\n",
    "list_description = []\n",
    "\n",
    "def get_description(url): \n",
    "    \n",
    "    ##creates a soup item for each url starting with the starting url (given)\n",
    "    response6 = requests.get(url)\n",
    "    soup6 = BeautifulSoup(response6.text, 'html.parser')\n",
    "    \n",
    "    #this is what goes into the list_current_prices\n",
    "    description = soup6.find_all(\"div\",{\"class\":\"inner\"})\n",
    "    \n",
    "    list_description.append(description[0].text.replace(\"\\n\", \"\"))"
   ]
  },
  {
   "cell_type": "code",
   "execution_count": 29,
   "metadata": {},
   "outputs": [
    {
     "name": "stdout",
     "output_type": "stream",
     "text": [
      "[\"What's more fun than making up click-baiting headlines? Getting the credit for it! Grab your friends, work together (or not), and prove your genius wordsmithing by making up some Alternative Facts!\", '13 Minutes: The Cuban Missile Crisis is a card game where you play as either Kennedy or Khrushchev to exit the Cuban Missile Crisis as the ultimate superpower. Play strategy cards that will influence battlegrounds, and avoid triggering a global nuclear war!', 'Abracada...what? is an exciting deduction game where players battle each other as powerful wizards. The catch is that only your opponents see and know the spells you can cast, and if you cast the same spell too often you will lose the game! Great for families!', 'The second expansion for Among The Stars! Assume the role of an alien race tasked to build the best and most efficient space station for the Alliance! Includes additional Power Reactor cards, Energy tokens, player markers, and more. For up to 6 players.', \"The classic Chutes and Ladders game with an Angry Birds theme! Race to King Pig's Castle by going up the ladder, but land on the wrong spot and you'll go down the chute! The first player to reach the Castle wins. Great for children ages 3+.\", 'Animal Act is a game that encourages kids to flex their creative muscles in new ways of expressing themselves. Roll the die and choose your path- sing, act, mime, or guess your way to greatness in this fun-filled game!', 'Apples to Apples is THE easy to learn, laugh out loud party game! An adjective card is played by the Judge and each player chooses the noun card in their hand that they think relates the most. Players who win the round becomes the Judge for the next round.', \"It is the 1920's and unnatural things are happening in the small Massachusetts town of Arkham. Work together with other investigators in this cooperative game and aquire skills, items, weapons, and spells to prevent the Ancient Ones from rising!\", \"Compete to be the most Awesome adventurer in three days' time of dungeoning in Awesome Kingdom: The Tower of Hateskull. In this card game players move to battle monster, find treasure, and discover magical items to aid you in your goal!\", 'Because drinks and games are great together, get the night to a great start with the Bachelorette Drink or Dare Dice game! Let the good times roll!', \"Betrayal at House on the Hill is a (mostly) cooperative strategy game where players build their own haunted house room by room using tile cards. One of the players may turn out to be a secret traitor, however, so stop them before it's too late!\", 'If you are looking for a meaningful game, Better Me is it! Better Me is a cooperative game that encourages personal development in the real world. With an accountability system, this game is great to be used in schools, with friends, or amongst family.', \"Take control of Viking clans in Blood Rage to invade, pillage, and battle in a glory-grabbing quest to secure Valhalla before Ragnorok consumes the land! Plan your strategy with your cards to fulfill quests, crush your opponents, or increase your clan's stats!\", 'Boss Monster is a card game packed with nostalgic references to 8-bit video games, dungeon RPGs, and geeky pop culture. Players compete to lure and destroy unsuspecting adventurers and build the most enticing dungeon. For 2-4 players.', 'Boss Monster 2 continues to pay a tribute to the class 8-bit video game style bosses. The addition of 160 new cards, new heroes, and Epic Spells introduces exciting new options! This may be played as a standalone game or as an expansion to the core set.', \"In\\xa0Buffy the Vampire Slayer: The Board Game, you help Buffy and her friends defend the town of Sunnydale from an onslaught of vampires and demons, while ultimately attempting to foil the big bad's plot and prevent the Hellmouth from opening.\\xa0\", \"Candy Land is the classic, simple children's board game full of magic and sweets! Travel along the rainbow path past the peppermint stick forest, gingerbread plum tree, and the gumdrop mountain to be the first to reach the candy castle!\", \"Cartoon Network's baddest adversaries are loose and you have to stop them! Play as your favorite heroes from a variety of heroes from past to present in this deck-building card game! Includes game-changing weakness, pratfall, and event cards.\", \"The heist is successful, but your band of gangsters can't agree on the split! In this party card game, point your foam guns at each other as you use your buffing and negotiation skills to survive. Whoever takes home the most loot wins!!\", 'Love Jenga? Or cats? How about playing with BOTH?! Cat Tower is a cute and easy tower-building game with a twist! Purrfect for kids of all ages! (including grown-ups who act like kids!)', 'The Censored Game takes popular elements of games like Charades, Pictionary, and Taboo and censors how players act, draw, and describe clues. With three different ways to play, this game is sure to bring a lot of fun to the party! Recommended for adults.', 'Think you know your historical events? Put your knowledge to the test in Chronology! Players are read a historical event and have to decide where the event falls on their timeline \"board.\" If you get it right, you keep the card. First to keep 10 cards wins!', \"Chutes and Ladders is a great and easy game for children ages 3-6! The goal is to get your character to the last square on the board before the other players. You'll go up faster by climbing up the ladders, but if you run into a chute you'll slide down it!\", \"Burgle your way to adventure in the deck-building board game\\xa0Clank!\\xa0Sneak into an angry dragon's mountain lair to steal precious artifacts. Delve deeper to find more valuable loot. Acquire cards for your deck and watch your thievish abilities grow.\", 'Clubs is a card game in which players try to win as many club cards as possible. The catch? The last player to go out for the round does not get any points! Similar to Hearts and Spades, this on-the-go card game is perfect to bring along on any trip!', \"Codenames Pictures takes the original party game a step further! Two rival spymasters know the secret identities of their agents and give coded messages to help their team to find them. Guess the pictures of your team's color while avoiding the assassin!\", \"Codenames Duet\\xa0keeps the basic elements of\\xa0Codenames\\xa0— give one-word clues to try to get someone to identify your agents among those on the table — but now you're working together as a team to find all of your agents.\", \"Welcome aboard the Colt Express! Play as a ruthless bandit set on looting as much goods and shooting as many bullets as you can at your former companions on the 3D steam train. Just don't be knocked off track before the train pulls into the station!\", 'Council of Verona is a role-playing game where there are multiple ways to win! Play your cards well, bluff and deduce player intentions, and place your bets on the correct Montague or Capulet characters to fulfill conditions and score the highest points!', 'Council of Verona: Corruption is an expansion pack that adds 21 corruption cards which add new influences and may be used instantly, as a bluff, or end-game ability. This is NOT a standalone expansion. The base game Council of Veronia is required to play.', 'The Resistance has brought the government to the brink of collapse, so you decide to take advantage of the discord to start a Coup. This card game requires you to bluff and deduce which actions your opponents will take against you!', \"Dancing Eggs is a children's party game where you try to win eggs while keep your eggs safe! Great for high-energy kids and aids in the development of fine and large motor skills. Recommended for 2-4 players.\", 'Djubi is an outdoor toy that adds a twist on the classic game of catch. Players launch and catch the Djubi ball with a specially designed net racket. The foam ball and compact rackets make this toy easy to bring along to any outing! Recommended age: 8+', 'This award-winning card game is great for those who enjoy deck-building games that require strategy. There is a center pool of cards that players can \"buy.\" Score the most victory points through obtaining land, constructing buildings, and collecting money.', \"Don't Be a Loser is a fun party game where you don't have to win but you just don't want to be the BIG LOSER! This game is easy to play and designed with social situations in mind, allowing players to freely leave and come back without interrupting the game!\", \"Are you and your friends a little unusual? Do you get a kick out of things normal people would be weirded out by? This Don't Be a Loser expansion pack is not for the fainthearted! Recommended age: 21+\", \"Stir up excitement in Dr. Beaker's laboratory! Race your opponents to match the formula pictured on the challenge card and use your stirring rod to move molecules into the right spots. The twist? The beaker only allows one molecule to be moved at a time!\", 'Help Dr. Eureka complete experiments without dropping materials in Dr. Eureka Speed Logic Game! This dexterity-based brainteaser can be played with friends or by yourself', 'Help Dr. Microbe complete her research with your tweezers, a petri dish, and the colorful microbes. Using logic, race your fellow scientists to figure out which microbes are missing from the incomplete challenge card and snatch them up fast! find the answer usin...', \"Drunk Quest is a fantasy-based competitive drinking card game. Players seek to level up by defeating monsters and collecting treasure, but be careful-- other players can mess with each other's attempts!\", 'In\\xa0Escape: Zombie City, you and your fellow players are survivors of the zombie apocalypse, hiding in a church of a big city. Everything is going great — well, as great as it can be when zombies are all around — but this is all about to change as a big wave of z...', \"Shoot down the bad guys! Oh, I mean 'flick' down the bad guys in this exciting game of Flick 'em Up! Play as the Sheriff or Outlaw in a mid-West setting where pieces fly (literally) across the room!\", \"Bottle flipping has always been around, but what's a better excuse than doing it for a game? Gain points by completing bottle flip tricks. With 24 unique trick challenges and 6 ways to play, you and your friends will be flipping bottles like no other!\", 'Help the kiwis go on vacation by sneaking them inside the fruit crate. Using your ramp, launch your kiwis into the crate and group the kiwis of your color in a line or square to make sure they hitch a ride! This fast-paced game is great for the whole family.', 'This cooperative board game will test your skill for survival in your mission to find four missing pieces of a flying machine in order to escape the desert. Coordinate with your teammates to find every available resource crucial for your survival.', \"Friday is a single-player strategy game where you play as Friday and help Robinson survive the island and defend himself from pirates. If you like solitaire deck-building games that require strategy, you'll be sure to enjoy this one!\", 'Oh no! Intruders have left bombs on board of your ship, and only you and your team can diffuse them! Work together FAST in this fast-paced dice game to diffuse the bombs within the 10 minute limit.', 'Ghostbusters: The Board Game\\xa0is an episodic adventure game for one to four players, who are charged with busting ghosts and sealing gates to the Spirit World. In the game, players choose one of the four Ghostbusters character figures — Peter Venkman, Egon Spengl...', 'Gloom is a card game with an unusual premise where the goal is to score the lowest points by having your characters suffer the greatest tragedies possible before dying. Sabotage your opponents by cheering their characters on. Lowest total score wins!', \"Scoop the correct Gelato as quickly as you can into the correct cone without dropping them! This fun little children's game helps with pattern building and dexterity.\"]\n",
      "Wall time: 32.1 s\n"
     ]
    }
   ],
   "source": [
    "%%time\n",
    "\n",
    "list_description = []\n",
    "\n",
    "##Call the function to get availability\n",
    "for url in list_test_url:\n",
    "    get_description(url)\n",
    "    \n",
    "print(list_description)"
   ]
  },
  {
   "cell_type": "code",
   "execution_count": 30,
   "metadata": {},
   "outputs": [
    {
     "name": "stdout",
     "output_type": "stream",
     "text": [
      "[\"What's more fun than making up click-baiting headlines? Getting the credit for it! Grab your friends, work together (or not), and prove your genius wordsmithing by making up some Alternative Facts!\", '13 Minutes: The Cuban Missile Crisis is a card game where you play as either Kennedy or Khrushchev to exit the Cuban Missile Crisis as the ultimate superpower. Play strategy cards that will influence battlegrounds, and avoid triggering a global nuclear war!', 'The second expansion for Among The Stars! Assume the role of an alien race tasked to build the best and most efficient space station for the Alliance! Includes additional Power Reactor cards, Energy tokens, player markers, and more. For up to 6 players.', \"The classic Chutes and Ladders game with an Angry Birds theme! Race to King Pig's Castle by going up the ladder, but land on the wrong spot and you'll go down the chute! The first player to reach the Castle wins. Great for children ages 3+.\", 'Apples to Apples is THE easy to learn, laugh out loud party game! An adjective card is played by the Judge and each player chooses the noun card in their hand that they think relates the most. Players who win the round becomes the Judge for the next round.', 'Animal Act is a game that encourages kids to flex their creative muscles in new ways of expressing themselves. Roll the die and choose your path- sing, act, mime, or guess your way to greatness in this fun-filled game!', 'If you are looking for a meaningful game, Better Me is it! Better Me is a cooperative game that encourages personal development in the real world. With an accountability system, this game is great to be used in schools, with friends, or amongst family.', 'Abracada...what? is an exciting deduction game where players battle each other as powerful wizards. The catch is that only your opponents see and know the spells you can cast, and if you cast the same spell too often you will lose the game! Great for families!', \"Betrayal at House on the Hill is a (mostly) cooperative strategy game where players build their own haunted house room by room using tile cards. One of the players may turn out to be a secret traitor, however, so stop them before it's too late!\", \"It is the 1920's and unnatural things are happening in the small Massachusetts town of Arkham. Work together with other investigators in this cooperative game and aquire skills, items, weapons, and spells to prevent the Ancient Ones from rising!\", 'Because drinks and games are great together, get the night to a great start with the Bachelorette Drink or Dare Dice game! Let the good times roll!', \"Take control of Viking clans in Blood Rage to invade, pillage, and battle in a glory-grabbing quest to secure Valhalla before Ragnorok consumes the land! Plan your strategy with your cards to fulfill quests, crush your opponents, or increase your clan's stats!\", \"Compete to be the most Awesome adventurer in three days' time of dungeoning in Awesome Kingdom: The Tower of Hateskull. In this card game players move to battle monster, find treasure, and discover magical items to aid you in your goal!\", \"Codenames Pictures takes the original party game a step further! Two rival spymasters know the secret identities of their agents and give coded messages to help their team to find them. Guess the pictures of your team's color while avoiding the assassin!\", \"Codenames Duet\\xa0keeps the basic elements of\\xa0Codenames\\xa0— give one-word clues to try to get someone to identify your agents among those on the table — but now you're working together as a team to find all of your agents.\", 'Boss Monster 2 continues to pay a tribute to the class 8-bit video game style bosses. The addition of 160 new cards, new heroes, and Epic Spells introduces exciting new options! This may be played as a standalone game or as an expansion to the core set.', \"Cartoon Network's baddest adversaries are loose and you have to stop them! Play as your favorite heroes from a variety of heroes from past to present in this deck-building card game! Includes game-changing weakness, pratfall, and event cards.\", \"Scoop the correct Gelato as quickly as you can into the correct cone without dropping them! This fun little children's game helps with pattern building and dexterity.\", 'The Censored Game takes popular elements of games like Charades, Pictionary, and Taboo and censors how players act, draw, and describe clues. With three different ways to play, this game is sure to bring a lot of fun to the party! Recommended for adults.', 'Boss Monster is a card game packed with nostalgic references to 8-bit video games, dungeon RPGs, and geeky pop culture. Players compete to lure and destroy unsuspecting adventurers and build the most enticing dungeon. For 2-4 players.', \"Drunk Quest is a fantasy-based competitive drinking card game. Players seek to level up by defeating monsters and collecting treasure, but be careful-- other players can mess with each other's attempts!\", \"The heist is successful, but your band of gangsters can't agree on the split! In this party card game, point your foam guns at each other as you use your buffing and negotiation skills to survive. Whoever takes home the most loot wins!!\", \"Dancing Eggs is a children's party game where you try to win eggs while keep your eggs safe! Great for high-energy kids and aids in the development of fine and large motor skills. Recommended for 2-4 players.\", 'Love Jenga? Or cats? How about playing with BOTH?! Cat Tower is a cute and easy tower-building game with a twist! Purrfect for kids of all ages! (including grown-ups who act like kids!)', \"Are you and your friends a little unusual? Do you get a kick out of things normal people would be weirded out by? This Don't Be a Loser expansion pack is not for the fainthearted! Recommended age: 21+\", \"Burgle your way to adventure in the deck-building board game\\xa0Clank!\\xa0Sneak into an angry dragon's mountain lair to steal precious artifacts. Delve deeper to find more valuable loot. Acquire cards for your deck and watch your thievish abilities grow.\", \"Chutes and Ladders is a great and easy game for children ages 3-6! The goal is to get your character to the last square on the board before the other players. You'll go up faster by climbing up the ladders, but if you run into a chute you'll slide down it!\", 'Gloom is a card game with an unusual premise where the goal is to score the lowest points by having your characters suffer the greatest tragedies possible before dying. Sabotage your opponents by cheering their characters on. Lowest total score wins!', \"Welcome aboard the Colt Express! Play as a ruthless bandit set on looting as much goods and shooting as many bullets as you can at your former companions on the 3D steam train. Just don't be knocked off track before the train pulls into the station!\", 'Think you know your historical events? Put your knowledge to the test in Chronology! Players are read a historical event and have to decide where the event falls on their timeline \"board.\" If you get it right, you keep the card. First to keep 10 cards wins!', \"In\\xa0Buffy the Vampire Slayer: The Board Game, you help Buffy and her friends defend the town of Sunnydale from an onslaught of vampires and demons, while ultimately attempting to foil the big bad's plot and prevent the Hellmouth from opening.\\xa0\", \"Stir up excitement in Dr. Beaker's laboratory! Race your opponents to match the formula pictured on the challenge card and use your stirring rod to move molecules into the right spots. The twist? The beaker only allows one molecule to be moved at a time!\", 'Council of Verona: Corruption is an expansion pack that adds 21 corruption cards which add new influences and may be used instantly, as a bluff, or end-game ability. This is NOT a standalone expansion. The base game Council of Veronia is required to play.', 'Council of Verona is a role-playing game where there are multiple ways to win! Play your cards well, bluff and deduce player intentions, and place your bets on the correct Montague or Capulet characters to fulfill conditions and score the highest points!', \"Bottle flipping has always been around, but what's a better excuse than doing it for a game? Gain points by completing bottle flip tricks. With 24 unique trick challenges and 6 ways to play, you and your friends will be flipping bottles like no other!\", \"Candy Land is the classic, simple children's board game full of magic and sweets! Travel along the rainbow path past the peppermint stick forest, gingerbread plum tree, and the gumdrop mountain to be the first to reach the candy castle!\", 'Help the kiwis go on vacation by sneaking them inside the fruit crate. Using your ramp, launch your kiwis into the crate and group the kiwis of your color in a line or square to make sure they hitch a ride! This fast-paced game is great for the whole family.', 'Clubs is a card game in which players try to win as many club cards as possible. The catch? The last player to go out for the round does not get any points! Similar to Hearts and Spades, this on-the-go card game is perfect to bring along on any trip!', 'This award-winning card game is great for those who enjoy deck-building games that require strategy. There is a center pool of cards that players can \"buy.\" Score the most victory points through obtaining land, constructing buildings, and collecting money.', 'Oh no! Intruders have left bombs on board of your ship, and only you and your team can diffuse them! Work together FAST in this fast-paced dice game to diffuse the bombs within the 10 minute limit.', \"Don't Be a Loser is a fun party game where you don't have to win but you just don't want to be the BIG LOSER! This game is easy to play and designed with social situations in mind, allowing players to freely leave and come back without interrupting the game!\", 'Help Dr. Microbe complete her research with your tweezers, a petri dish, and the colorful microbes. Using logic, race your fellow scientists to figure out which microbes are missing from the incomplete challenge card and snatch them up fast! find the answer usin...', 'Djubi is an outdoor toy that adds a twist on the classic game of catch. Players launch and catch the Djubi ball with a specially designed net racket. The foam ball and compact rackets make this toy easy to bring along to any outing! Recommended age: 8+', 'Ghostbusters: The Board Game\\xa0is an episodic adventure game for one to four players, who are charged with busting ghosts and sealing gates to the Spirit World. In the game, players choose one of the four Ghostbusters character figures — Peter Venkman, Egon Spengl...', 'In\\xa0Escape: Zombie City, you and your fellow players are survivors of the zombie apocalypse, hiding in a church of a big city. Everything is going great — well, as great as it can be when zombies are all around — but this is all about to change as a big wave of z...', 'The Resistance has brought the government to the brink of collapse, so you decide to take advantage of the discord to start a Coup. This card game requires you to bluff and deduce which actions your opponents will take against you!', \"Friday is a single-player strategy game where you play as Friday and help Robinson survive the island and defend himself from pirates. If you like solitaire deck-building games that require strategy, you'll be sure to enjoy this one!\", 'Help Dr. Eureka complete experiments without dropping materials in Dr. Eureka Speed Logic Game! This dexterity-based brainteaser can be played with friends or by yourself', 'This cooperative board game will test your skill for survival in your mission to find four missing pieces of a flying machine in order to escape the desert. Coordinate with your teammates to find every available resource crucial for your survival.', \"Shoot down the bad guys! Oh, I mean 'flick' down the bad guys in this exciting game of Flick 'em Up! Play as the Sheriff or Outlaw in a mid-West setting where pieces fly (literally) across the room!\"]\n",
      "Wall time: 8.67 s\n"
     ]
    }
   ],
   "source": [
    "%%time\n",
    "\n",
    "list_description = []\n",
    "\n",
    "with ThreadPoolExecutor(50) as pool:\n",
    "    #rename to results5\n",
    "    results5 = pool.map(get_description, list_test_url)\n",
    "    \n",
    "\n",
    "print(list_description)"
   ]
  },
  {
   "cell_type": "markdown",
   "metadata": {},
   "source": [
    "# Getting Players"
   ]
  },
  {
   "cell_type": "code",
   "execution_count": 31,
   "metadata": {},
   "outputs": [
    {
     "data": {
      "text/plain": [
       "' 2-6 players'"
      ]
     },
     "execution_count": 31,
     "metadata": {},
     "output_type": "execute_result"
    }
   ],
   "source": [
    "players = soup2.find_all(\"li\",{\"title\":\"Number of Players\"})\n",
    "players[0].text"
   ]
  },
  {
   "cell_type": "code",
   "execution_count": 32,
   "metadata": {},
   "outputs": [
    {
     "name": "stdout",
     "output_type": "stream",
     "text": [
      "Wall time: 0 ns\n"
     ]
    }
   ],
   "source": [
    "%%time\n",
    "\n",
    "##Create a function for getting number of players\n",
    "\n",
    "list_players = []\n",
    "\n",
    "def get_players(url): \n",
    "    \n",
    "    ##creates a soup item for each url starting with the starting url (given)\n",
    "    response7 = requests.get(url)\n",
    "    soup7 = BeautifulSoup(response7.text, 'html.parser')\n",
    "    \n",
    "    #this is what goes into the list_current_prices\n",
    "    players = soup7.find_all(\"li\",{\"title\":\"Number of Players\"})\n",
    "    \n",
    "    list_players.append(players[0].text)"
   ]
  },
  {
   "cell_type": "code",
   "execution_count": 33,
   "metadata": {},
   "outputs": [
    {
     "name": "stdout",
     "output_type": "stream",
     "text": [
      "[' 2-6 players', ' 2 players', ' 2-5 players', ' 2-4 players', ' 2-6 players', ' 2-12 players', ' 4-10 players', ' 1-8 players', ' 2-4 players', ' 2+ players', ' 3-6 players', ' 2-8 players', ' 2-4 players', ' 2-4 players', ' 2-4 players', ' 1 to 6', ' 2-4 players', ' 2-5 players', ' 4-8 players', ' 2-6 players', ' 4+ players', ' 2-8 players', ' 2-4 players', ' 1 to 4', ' 2-6 players', ' 2-8 players', ' 2 to 4', ' 2-6 players', ' 2-5 players', ' 2-5 players', ' 2-6 players', ' 4+ players', ' 2 players', ' 2-4 players', ' 4-10 players', ' 4-10 players', ' 2-4 players', ' 1-4 players', ' 2-4 players', ' 3-6 players', ' 2 to 4', ' 2-10 players', ' 1+ players', ' 2-4 players', ' 2-5 players', ' 1 players', ' 1-5 players', ' 1 to 4', ' 2-5 players', ' 2-4 players']\n",
      "Wall time: 30.2 s\n"
     ]
    }
   ],
   "source": [
    "%%time\n",
    "\n",
    "list_players = []\n",
    "\n",
    "##Call the function to get players\n",
    "for url in list_test_url:\n",
    "    get_players(url)\n",
    "    \n",
    "print(list_players)"
   ]
  },
  {
   "cell_type": "code",
   "execution_count": 34,
   "metadata": {},
   "outputs": [
    {
     "name": "stdout",
     "output_type": "stream",
     "text": [
      "[' 2 players', ' 2-5 players', ' 2-4 players', ' 1 to 6', ' 4-10 players', ' 1-8 players', ' 2+ players', ' 2-4 players', ' 2-12 players', ' 2-4 players', ' 2-6 players', ' 2-6 players', ' 2-8 players', ' 4+ players', ' 3-6 players', ' 2-4 players', ' 2 to 4', ' 2-4 players', ' 2-4 players', ' 2-4 players', ' 2-6 players', ' 2-5 players', ' 2-8 players', ' 1 to 4', ' 4-8 players', ' 4-10 players', ' 2-6 players', ' 2-5 players', ' 2-8 players', ' 2-4 players', ' 2-10 players', ' 2 to 4', ' 1+ players', ' 2-4 players', ' 2-6 players', ' 2-6 players', ' 2 players', ' 4+ players', ' 1-4 players', ' 1 to 4', ' 4-10 players', ' 1-5 players', ' 2-4 players', ' 2-4 players', ' 2-5 players', ' 2-5 players', ' 3-6 players', ' 1 players', ' 2-5 players', ' 2-4 players']\n",
      "Wall time: 7.29 s\n"
     ]
    }
   ],
   "source": [
    "%%time\n",
    "\n",
    "list_players = []\n",
    "\n",
    "with ThreadPoolExecutor(50) as pool:\n",
    "    #rename to results6\n",
    "    results6 = pool.map(get_players, list_test_url)\n",
    "    \n",
    "\n",
    "print(list_players)"
   ]
  },
  {
   "cell_type": "markdown",
   "metadata": {},
   "source": [
    "# Getting time to play"
   ]
  },
  {
   "cell_type": "code",
   "execution_count": 35,
   "metadata": {},
   "outputs": [
    {
     "data": {
      "text/plain": [
       "' 15-30 min'"
      ]
     },
     "execution_count": 35,
     "metadata": {},
     "output_type": "execute_result"
    }
   ],
   "source": [
    "play_time = soup2.find_all(\"li\",{\"title\":\"Play Time\"})\n",
    "play_time[0].text"
   ]
  },
  {
   "cell_type": "code",
   "execution_count": 36,
   "metadata": {},
   "outputs": [
    {
     "name": "stdout",
     "output_type": "stream",
     "text": [
      "Wall time: 0 ns\n"
     ]
    }
   ],
   "source": [
    "%%time\n",
    "\n",
    "##Create a function for getting time to play\n",
    "\n",
    "list_play_time = []\n",
    "\n",
    "def get_play_time(url): \n",
    "    \n",
    "    ##creates a soup item for each url starting with the starting url (given)\n",
    "    response8 = requests.get(url)\n",
    "    soup8 = BeautifulSoup(response8.text, 'html.parser')\n",
    "    \n",
    "    #this is what goes into the list_current_prices\n",
    "    play_time = soup8.find_all(\"li\",{\"title\":\"Play Time\"})\n",
    "    \n",
    "    list_play_time.append(play_time[0].text)"
   ]
  },
  {
   "cell_type": "code",
   "execution_count": 37,
   "metadata": {},
   "outputs": [
    {
     "name": "stdout",
     "output_type": "stream",
     "text": [
      "[' 15-30 min', ' 13 min.', ' 20-30 min.', ' 30 min.', ' 30 min.', ' 15 min.', ' 30 min.', ' 2-6 hours', ' 30-45 min.', ' 10 min.', ' 1 hour', ' 30-180 min.', ' 1-1.5 hours', ' 20 min.', ' 20-30 min.', ' 40-60 minutes', ' 30 min.', ' 30-45 min.', ' 30 min.', ' 15-20 min.', ' 30 min.', ' 30 min.', ' 15 min.', ' 30-60 minutes', ' 30 min.', ' 15-30 min.', ' 15-30 minutes', ' 30-40 min.', ' 20 min.', ' 20 min.', ' 15 min.', ' 30 min.', ' --', ' 30 min.', ' 30 min.', ' 30 min.', ' 15 min.', ' 15 min.', ' 15 min.', ' 20 min.', ' 15 minutes', ' 30-45 min.', ' 5-15 min.', ' 10 min.', ' 45 min.', ' 25 min.', ' 10 min.', ' 30-120 minutes', ' 60 min.', ' 15 min.']\n",
      "Wall time: 28.7 s\n"
     ]
    }
   ],
   "source": [
    "%%time\n",
    "\n",
    "list_play_time = []\n",
    "\n",
    "##Call the function to get play time\n",
    "for url in list_test_url:\n",
    "    get_play_time(url)\n",
    "    \n",
    "print(list_play_time)"
   ]
  },
  {
   "cell_type": "code",
   "execution_count": 38,
   "metadata": {},
   "outputs": [
    {
     "name": "stdout",
     "output_type": "stream",
     "text": [
      "[' 30 min.', ' 15-30 min', ' 13 min.', ' 30 min.', ' 10 min.', ' 2-6 hours', ' 40-60 minutes', ' 20-30 min.', ' 30-45 min.', ' 15 min.', ' 30 min.', ' 15-20 min.', ' 1 hour', ' 1-1.5 hours', ' 30 min.', ' 20-30 min.', ' 30-40 min.', ' 20 min.', ' 30 min.', ' 15-30 minutes', ' 30 min.', ' 30-180 min.', ' 20 min.', ' 30-45 min.', ' 30-60 minutes', ' 15-30 min.', ' 30 min.', ' 15 min.', ' 30 min.', ' 30 min.', ' 30 min.', ' 20 min.', ' 5-15 min.', ' 15 min.', ' --', ' 15 min.', ' 15 minutes', ' 30 min.', ' 15 min.', ' 10 min.', ' 25 min.', ' 30 min.', ' 15 min.', ' 30-45 min.', ' 15 min.', ' 45 min.', ' 60 min.', ' 30-120 minutes', ' 10 min.', ' 20 min.']\n",
      "Wall time: 11.3 s\n"
     ]
    }
   ],
   "source": [
    "%%time\n",
    "\n",
    "list_play_time = []\n",
    "\n",
    "with ThreadPoolExecutor(50) as pool:\n",
    "    #rename to results7\n",
    "    results7 = pool.map(get_play_time, list_test_url)\n",
    "    \n",
    "\n",
    "print(list_play_time)"
   ]
  },
  {
   "cell_type": "markdown",
   "metadata": {},
   "source": [
    "# I need to combine all in one function in order to maintain a correct order of entries"
   ]
  },
  {
   "cell_type": "code",
   "execution_count": 50,
   "metadata": {},
   "outputs": [
    {
     "name": "stdout",
     "output_type": "stream",
     "text": [
      "Wall time: 0 ns\n"
     ]
    }
   ],
   "source": [
    "%%time\n",
    "list_names = []\n",
    "list_original_prices = []\n",
    "list_current_prices = []\n",
    "list_age = []\n",
    "list_players = []\n",
    "list_play_time = []\n",
    "list_description = []\n",
    "\n",
    "\n",
    "def grab_all(url):\n",
    "    \n",
    "    newresponse1 = requests.get(url)\n",
    "    newsoup1 = BeautifulSoup(newresponse1.text, 'html.parser')\n",
    "    \n",
    "    name = newsoup1.find_all(\"h1\",{\"class\":\"product-single__title\"})\n",
    "    list_names.append(name[0].text)\n",
    "    \n",
    "    original_price = newsoup1.select('#ComparePrice-product-template')\n",
    "    if  original_price[0].text == '':\n",
    "        list_original_prices.append(\"No sale\")\n",
    "    else:\n",
    "        list_original_prices.append(original_price[0].text)\n",
    "\n",
    "    current_price = newsoup1.select('#ProductPrice-product-template')\n",
    "    list_current_prices.append(current_price[0].text)\n",
    "\n",
    "    age = newsoup1.select('#ProductSection-product-template > div > div > div > ul.prodFeature > li')\n",
    "    list_age.append(age[0].text)\n",
    "\n",
    "    players = newsoup1.find_all(\"li\",{\"title\":\"Number of Players\"})\n",
    "    list_players.append(players[0].text)\n",
    "\n",
    "    play_time = newsoup1.find_all(\"li\",{\"title\":\"Play Time\"})\n",
    "    list_play_time.append(play_time[0].text)\n",
    "\n",
    "    description = newsoup1.find_all(\"div\",{\"class\":\"inner\"})\n",
    "    list_description.append(description[0].text.replace(\"\\n\", \"\"))\n"
   ]
  },
  {
   "cell_type": "code",
   "execution_count": 51,
   "metadata": {},
   "outputs": [],
   "source": [
    "list_names = []\n",
    "list_original_prices= []\n",
    "list_current_prices = []\n",
    "list_age = []\n",
    "list_players = []\n",
    "list_play_time = []\n",
    "list_description = []\n",
    "with ThreadPoolExecutor(3) as pool:\n",
    "       results_all = pool.map(grab_all, list_test_url)\n"
   ]
  },
  {
   "cell_type": "code",
   "execution_count": 52,
   "metadata": {},
   "outputs": [
    {
     "name": "stdout",
     "output_type": "stream",
     "text": [
      "['#Alternative Facts', '13 Minutes: The Cuban Missile Crisis', 'Abracada...What?', 'Angry Birds Chutes & Ladders Editon', 'Animal Act', 'Among The Stars: Expanding the Alliance', 'Apples to Apples', 'Awesome Kingdom: Tower of Hateskull', 'Arkham Horror', 'Better Me', 'Bachelorette Drink or Dare Dice', 'Betrayal at House on the Hill', 'Boss Monster', 'Blood Rage', 'Boss Monster 2: The Next Level', 'Buffy The Vampire Slayer: The Board Game', \"Cash 'N Guns\", 'Cartoon Network Crossover Crisis Deck-Building Game', 'Candy Land', 'Cat Tower', 'Censored Game', 'Chutes and Ladders', 'Chronology', 'Codenames Pictures', 'Clubs Card Game', 'Clank! A Deck Building Adventure', 'Council of Verona', 'Codenames: Duet', 'Colt Express', 'Coup', 'Dancing Eggs', 'Council of Verona: Corruption Expansion', 'Djubi Game', 'Dominion', \"Don't Be A Loser\", \"Don't Be A Loser Adult Expansion\", 'Dr. Beaker', 'Dr. Eureka Speed Logic Game', 'Dr. Microbe', 'Drunk Quest', 'Escape: Zombie City', \"Flick 'Em Up\", 'Flip Tricks', 'Forbidden Desert', 'Flying Kiwis', 'Friday', 'Ghostbusters: The Board Game', 'FUSE', 'Gloom', 'Go Go Gelato!']\n",
      "['$10.00', '$10.99', '$34.99', '$19.99', '$19.95', '$29.95', '$26.99', '$29.99', '$59.95', '$80.00', 'No sale', '$49.99', '$24.99', '$79.99', '$24.99', '$39.99', '$39.99', '$39.99', '$10.99', '$19.99', '$25.00', '$10.99', '$19.99', '$19.99', '$14.99', '$59.99', '$19.99', '$19.99', '$39.99', '$14.99', '$20.00', '$12.99', '$25.99', '$44.99', '$29.99', '$19.99', '$19.99', '$19.99', '$21.99', '$34.95', '$59.95', '$69.95', 'No sale', '$26.99', '$19.99', '$19.99', '$85.00', '$30.00', '$24.99', '$19.99']\n",
      "['$9.00', '$9.89', '$31.49', '$17.99', '$17.95', '$27.99', '$24.29', '$26.99', '$53.96', '$54.95', '$6.00', '$42.99', '$22.49', '$72.95', '$22.49', '$35.96', '$37.99', '$35.99', '$9.89', '$17.99', '$23.50', '$9.89', '$17.96', '$17.99', '$11.99', '$51.99', '$17.99', '$17.99', '$34.99', '$13.49', '$18.00', '$9.99', '$19.99', '$40.49', '$21.99', '$14.99', '$17.99', '$17.99', '$19.99', '$28.74', '$53.95', '$62.99', '$14.99', '$24.29', '$17.99', '$15.99', '$76.50', '$27.00', '$22.49', '$17.99']\n",
      "[' Ages 14+', ' Ages 10+', ' Ages 8+', ' Ages 3+', ' Ages 4+', ' Ages 12+', ' Ages 12+', ' Ages 10+', ' Ages 12+', ' Ages 12+', ' Ages 21+', ' Ages 12+', ' Ages 13+', ' Ages 14+', ' Ages 13+', ' 10 & up', ' Ages 10+', ' Ages 12+', ' Ages 3+', ' Ages 6+', ' Ages 18+', ' Ages 3+', ' Ages 12+', ' Ages 14+', ' Ages 8+', ' 12 & up', ' Ages 13+', ' 11 & up', ' Ages 10+', ' Ages 9+', ' Ages 5+', ' Ages 13+', ' Ages 8+', ' Ages 13+', ' Ages 13+', ' Ages 13+', ' Ages 8+', ' Ages 8+', ' Ages 8+', ' Ages 21+', ' 10 & up', ' Ages 7+', ' Ages 8+', ' Ages 10+', ' Ages 5+', ' Ages 13+', ' 15 & up', ' Ages 10+', ' Ages 13+', ' Ages 6+']\n",
      "[' 2-6 players', ' 2 players', ' 2-5 players', ' 2-6 players', ' 2-12 players', ' 2-4 players', ' 4-10 players', ' 2-4 players', ' 1-8 players', ' 2-8 players', ' 2+ players', ' 3-6 players', ' 2-4 players', ' 2-4 players', ' 2-4 players', ' 1 to 6', ' 4-8 players', ' 2-5 players', ' 2-4 players', ' 2-6 players', ' 4+ players', ' 2-4 players', ' 2-8 players', ' 2-8 players', ' 2-6 players', ' 1 to 4', ' 2-5 players', ' 2 to 4', ' 2-6 players', ' 2-6 players', ' 4+ players', ' 2-5 players', ' 2 players', ' 2-4 players', ' 4-10 players', ' 4-10 players', ' 2-4 players', ' 1-4 players', ' 2-4 players', ' 3-6 players', ' 2 to 4', ' 2-10 players', ' 1+ players', ' 2-4 players', ' 2-5 players', ' 1 players', ' 1 to 4', ' 1-5 players', ' 2-5 players', ' 2-4 players']\n",
      "[' 15-30 min', ' 13 min.', ' 20-30 min.', ' 30 min.', ' 15 min.', ' 30 min.', ' 30 min.', ' 30-45 min.', ' 2-6 hours', ' 30-180 min.', ' 10 min.', ' 1 hour', ' 20 min.', ' 1-1.5 hours', ' 20-30 min.', ' 40-60 minutes', ' 30 min.', ' 30-45 min.', ' 30 min.', ' 15-20 min.', ' 30 min.', ' 15 min.', ' 30 min.', ' 15-30 min.', ' 30 min.', ' 30-60 minutes', ' 20 min.', ' 15-30 minutes', ' 30-40 min.', ' 15 min.', ' 30 min.', ' 20 min.', ' --', ' 30 min.', ' 30 min.', ' 30 min.', ' 15 min.', ' 15 min.', ' 15 min.', ' 20 min.', ' 15 minutes', ' 30-45 min.', ' 5-15 min.', ' 10 min.', ' 45 min.', ' 25 min.', ' 30-120 minutes', ' 10 min.', ' 60 min.', ' 15 min.']\n",
      "[\"What's more fun than making up click-baiting headlines? Getting the credit for it! Grab your friends, work together (or not), and prove your genius wordsmithing by making up some Alternative Facts!\", '13 Minutes: The Cuban Missile Crisis is a card game where you play as either Kennedy or Khrushchev to exit the Cuban Missile Crisis as the ultimate superpower. Play strategy cards that will influence battlegrounds, and avoid triggering a global nuclear war!', 'Abracada...what? is an exciting deduction game where players battle each other as powerful wizards. The catch is that only your opponents see and know the spells you can cast, and if you cast the same spell too often you will lose the game! Great for families!', \"The classic Chutes and Ladders game with an Angry Birds theme! Race to King Pig's Castle by going up the ladder, but land on the wrong spot and you'll go down the chute! The first player to reach the Castle wins. Great for children ages 3+.\", 'Animal Act is a game that encourages kids to flex their creative muscles in new ways of expressing themselves. Roll the die and choose your path- sing, act, mime, or guess your way to greatness in this fun-filled game!', 'The second expansion for Among The Stars! Assume the role of an alien race tasked to build the best and most efficient space station for the Alliance! Includes additional Power Reactor cards, Energy tokens, player markers, and more. For up to 6 players.', 'Apples to Apples is THE easy to learn, laugh out loud party game! An adjective card is played by the Judge and each player chooses the noun card in their hand that they think relates the most. Players who win the round becomes the Judge for the next round.', \"Compete to be the most Awesome adventurer in three days' time of dungeoning in Awesome Kingdom: The Tower of Hateskull. In this card game players move to battle monster, find treasure, and discover magical items to aid you in your goal!\", \"It is the 1920's and unnatural things are happening in the small Massachusetts town of Arkham. Work together with other investigators in this cooperative game and aquire skills, items, weapons, and spells to prevent the Ancient Ones from rising!\", 'If you are looking for a meaningful game, Better Me is it! Better Me is a cooperative game that encourages personal development in the real world. With an accountability system, this game is great to be used in schools, with friends, or amongst family.', 'Because drinks and games are great together, get the night to a great start with the Bachelorette Drink or Dare Dice game! Let the good times roll!', \"Betrayal at House on the Hill is a (mostly) cooperative strategy game where players build their own haunted house room by room using tile cards. One of the players may turn out to be a secret traitor, however, so stop them before it's too late!\", 'Boss Monster is a card game packed with nostalgic references to 8-bit video games, dungeon RPGs, and geeky pop culture. Players compete to lure and destroy unsuspecting adventurers and build the most enticing dungeon. For 2-4 players.', \"Take control of Viking clans in Blood Rage to invade, pillage, and battle in a glory-grabbing quest to secure Valhalla before Ragnorok consumes the land! Plan your strategy with your cards to fulfill quests, crush your opponents, or increase your clan's stats!\", 'Boss Monster 2 continues to pay a tribute to the class 8-bit video game style bosses. The addition of 160 new cards, new heroes, and Epic Spells introduces exciting new options! This may be played as a standalone game or as an expansion to the core set.', \"In\\xa0Buffy the Vampire Slayer: The Board Game, you help Buffy and her friends defend the town of Sunnydale from an onslaught of vampires and demons, while ultimately attempting to foil the big bad's plot and prevent the Hellmouth from opening.\\xa0\", \"The heist is successful, but your band of gangsters can't agree on the split! In this party card game, point your foam guns at each other as you use your buffing and negotiation skills to survive. Whoever takes home the most loot wins!!\", \"Cartoon Network's baddest adversaries are loose and you have to stop them! Play as your favorite heroes from a variety of heroes from past to present in this deck-building card game! Includes game-changing weakness, pratfall, and event cards.\", \"Candy Land is the classic, simple children's board game full of magic and sweets! Travel along the rainbow path past the peppermint stick forest, gingerbread plum tree, and the gumdrop mountain to be the first to reach the candy castle!\", 'Love Jenga? Or cats? How about playing with BOTH?! Cat Tower is a cute and easy tower-building game with a twist! Purrfect for kids of all ages! (including grown-ups who act like kids!)', 'The Censored Game takes popular elements of games like Charades, Pictionary, and Taboo and censors how players act, draw, and describe clues. With three different ways to play, this game is sure to bring a lot of fun to the party! Recommended for adults.', \"Chutes and Ladders is a great and easy game for children ages 3-6! The goal is to get your character to the last square on the board before the other players. You'll go up faster by climbing up the ladders, but if you run into a chute you'll slide down it!\", 'Think you know your historical events? Put your knowledge to the test in Chronology! Players are read a historical event and have to decide where the event falls on their timeline \"board.\" If you get it right, you keep the card. First to keep 10 cards wins!', \"Codenames Pictures takes the original party game a step further! Two rival spymasters know the secret identities of their agents and give coded messages to help their team to find them. Guess the pictures of your team's color while avoiding the assassin!\", 'Clubs is a card game in which players try to win as many club cards as possible. The catch? The last player to go out for the round does not get any points! Similar to Hearts and Spades, this on-the-go card game is perfect to bring along on any trip!', \"Burgle your way to adventure in the deck-building board game\\xa0Clank!\\xa0Sneak into an angry dragon's mountain lair to steal precious artifacts. Delve deeper to find more valuable loot. Acquire cards for your deck and watch your thievish abilities grow.\", 'Council of Verona is a role-playing game where there are multiple ways to win! Play your cards well, bluff and deduce player intentions, and place your bets on the correct Montague or Capulet characters to fulfill conditions and score the highest points!', \"Codenames Duet\\xa0keeps the basic elements of\\xa0Codenames\\xa0— give one-word clues to try to get someone to identify your agents among those on the table — but now you're working together as a team to find all of your agents.\", \"Welcome aboard the Colt Express! Play as a ruthless bandit set on looting as much goods and shooting as many bullets as you can at your former companions on the 3D steam train. Just don't be knocked off track before the train pulls into the station!\", 'The Resistance has brought the government to the brink of collapse, so you decide to take advantage of the discord to start a Coup. This card game requires you to bluff and deduce which actions your opponents will take against you!', \"Dancing Eggs is a children's party game where you try to win eggs while keep your eggs safe! Great for high-energy kids and aids in the development of fine and large motor skills. Recommended for 2-4 players.\", 'Council of Verona: Corruption is an expansion pack that adds 21 corruption cards which add new influences and may be used instantly, as a bluff, or end-game ability. This is NOT a standalone expansion. The base game Council of Veronia is required to play.', 'Djubi is an outdoor toy that adds a twist on the classic game of catch. Players launch and catch the Djubi ball with a specially designed net racket. The foam ball and compact rackets make this toy easy to bring along to any outing! Recommended age: 8+', 'This award-winning card game is great for those who enjoy deck-building games that require strategy. There is a center pool of cards that players can \"buy.\" Score the most victory points through obtaining land, constructing buildings, and collecting money.', \"Don't Be a Loser is a fun party game where you don't have to win but you just don't want to be the BIG LOSER! This game is easy to play and designed with social situations in mind, allowing players to freely leave and come back without interrupting the game!\", \"Are you and your friends a little unusual? Do you get a kick out of things normal people would be weirded out by? This Don't Be a Loser expansion pack is not for the fainthearted! Recommended age: 21+\", \"Stir up excitement in Dr. Beaker's laboratory! Race your opponents to match the formula pictured on the challenge card and use your stirring rod to move molecules into the right spots. The twist? The beaker only allows one molecule to be moved at a time!\", 'Help Dr. Eureka complete experiments without dropping materials in Dr. Eureka Speed Logic Game! This dexterity-based brainteaser can be played with friends or by yourself', 'Help Dr. Microbe complete her research with your tweezers, a petri dish, and the colorful microbes. Using logic, race your fellow scientists to figure out which microbes are missing from the incomplete challenge card and snatch them up fast! find the answer usin...', \"Drunk Quest is a fantasy-based competitive drinking card game. Players seek to level up by defeating monsters and collecting treasure, but be careful-- other players can mess with each other's attempts!\", 'In\\xa0Escape: Zombie City, you and your fellow players are survivors of the zombie apocalypse, hiding in a church of a big city. Everything is going great — well, as great as it can be when zombies are all around — but this is all about to change as a big wave of z...', \"Shoot down the bad guys! Oh, I mean 'flick' down the bad guys in this exciting game of Flick 'em Up! Play as the Sheriff or Outlaw in a mid-West setting where pieces fly (literally) across the room!\", \"Bottle flipping has always been around, but what's a better excuse than doing it for a game? Gain points by completing bottle flip tricks. With 24 unique trick challenges and 6 ways to play, you and your friends will be flipping bottles like no other!\", 'Help the kiwis go on vacation by sneaking them inside the fruit crate. Using your ramp, launch your kiwis into the crate and group the kiwis of your color in a line or square to make sure they hitch a ride! This fast-paced game is great for the whole family.', 'This cooperative board game will test your skill for survival in your mission to find four missing pieces of a flying machine in order to escape the desert. Coordinate with your teammates to find every available resource crucial for your survival.', \"Friday is a single-player strategy game where you play as Friday and help Robinson survive the island and defend himself from pirates. If you like solitaire deck-building games that require strategy, you'll be sure to enjoy this one!\", 'Ghostbusters: The Board Game\\xa0is an episodic adventure game for one to four players, who are charged with busting ghosts and sealing gates to the Spirit World. In the game, players choose one of the four Ghostbusters character figures — Peter Venkman, Egon Spengl...', 'Oh no! Intruders have left bombs on board of your ship, and only you and your team can diffuse them! Work together FAST in this fast-paced dice game to diffuse the bombs within the 10 minute limit.', 'Gloom is a card game with an unusual premise where the goal is to score the lowest points by having your characters suffer the greatest tragedies possible before dying. Sabotage your opponents by cheering their characters on. Lowest total score wins!', \"Scoop the correct Gelato as quickly as you can into the correct cone without dropping them! This fun little children's game helps with pattern building and dexterity.\"]\n",
      "Wall time: 3.04 ms\n"
     ]
    }
   ],
   "source": [
    "%%time\n",
    "print(list_names)\n",
    "print(list_original_prices)\n",
    "print(list_current_prices)\n",
    "print(list_age)\n",
    "print(list_players)\n",
    "print(list_play_time)\n",
    "print(list_description)\n"
   ]
  },
  {
   "cell_type": "code",
   "execution_count": 53,
   "metadata": {},
   "outputs": [],
   "source": [
    "list_names = pd.DataFrame(list_names)\n",
    "list_original_prices = pd.DataFrame(list_original_prices)\n",
    "list_current_prices = pd.DataFrame(list_current_prices)\n",
    "list_age = pd.DataFrame(list_age)\n",
    "list_players = pd.DataFrame(list_players)\n",
    "list_play_time = pd.DataFrame(list_play_time)\n",
    "list_description = pd.DataFrame(list_description)\n"
   ]
  },
  {
   "cell_type": "code",
   "execution_count": 54,
   "metadata": {},
   "outputs": [
    {
     "data": {
      "text/html": [
       "<div>\n",
       "<style scoped>\n",
       "    .dataframe tbody tr th:only-of-type {\n",
       "        vertical-align: middle;\n",
       "    }\n",
       "\n",
       "    .dataframe tbody tr th {\n",
       "        vertical-align: top;\n",
       "    }\n",
       "\n",
       "    .dataframe thead th {\n",
       "        text-align: right;\n",
       "    }\n",
       "</style>\n",
       "<table border=\"1\" class=\"dataframe\">\n",
       "  <thead>\n",
       "    <tr style=\"text-align: right;\">\n",
       "      <th></th>\n",
       "      <th>Game Name</th>\n",
       "      <th>Original Price</th>\n",
       "      <th>Current Price</th>\n",
       "      <th>Age of Players</th>\n",
       "      <th>Number of Players</th>\n",
       "      <th>Play Time</th>\n",
       "      <th>Description</th>\n",
       "    </tr>\n",
       "  </thead>\n",
       "  <tbody>\n",
       "    <tr>\n",
       "      <th>0</th>\n",
       "      <td>#Alternative Facts</td>\n",
       "      <td>$10.00</td>\n",
       "      <td>$9.00</td>\n",
       "      <td>Ages 14+</td>\n",
       "      <td>2-6 players</td>\n",
       "      <td>15-30 min</td>\n",
       "      <td>What's more fun than making up click-baiting h...</td>\n",
       "    </tr>\n",
       "    <tr>\n",
       "      <th>1</th>\n",
       "      <td>13 Minutes: The Cuban Missile Crisis</td>\n",
       "      <td>$10.99</td>\n",
       "      <td>$9.89</td>\n",
       "      <td>Ages 10+</td>\n",
       "      <td>2 players</td>\n",
       "      <td>13 min.</td>\n",
       "      <td>13 Minutes: The Cuban Missile Crisis is a card...</td>\n",
       "    </tr>\n",
       "    <tr>\n",
       "      <th>2</th>\n",
       "      <td>Abracada...What?</td>\n",
       "      <td>$34.99</td>\n",
       "      <td>$31.49</td>\n",
       "      <td>Ages 8+</td>\n",
       "      <td>2-5 players</td>\n",
       "      <td>20-30 min.</td>\n",
       "      <td>Abracada...what? is an exciting deduction game...</td>\n",
       "    </tr>\n",
       "    <tr>\n",
       "      <th>3</th>\n",
       "      <td>Angry Birds Chutes &amp; Ladders Editon</td>\n",
       "      <td>$19.99</td>\n",
       "      <td>$17.99</td>\n",
       "      <td>Ages 3+</td>\n",
       "      <td>2-6 players</td>\n",
       "      <td>30 min.</td>\n",
       "      <td>The classic Chutes and Ladders game with an An...</td>\n",
       "    </tr>\n",
       "    <tr>\n",
       "      <th>4</th>\n",
       "      <td>Animal Act</td>\n",
       "      <td>$19.95</td>\n",
       "      <td>$17.95</td>\n",
       "      <td>Ages 4+</td>\n",
       "      <td>2-12 players</td>\n",
       "      <td>15 min.</td>\n",
       "      <td>Animal Act is a game that encourages kids to f...</td>\n",
       "    </tr>\n",
       "    <tr>\n",
       "      <th>5</th>\n",
       "      <td>Among The Stars: Expanding the Alliance</td>\n",
       "      <td>$29.95</td>\n",
       "      <td>$27.99</td>\n",
       "      <td>Ages 12+</td>\n",
       "      <td>2-4 players</td>\n",
       "      <td>30 min.</td>\n",
       "      <td>The second expansion for Among The Stars! Assu...</td>\n",
       "    </tr>\n",
       "    <tr>\n",
       "      <th>6</th>\n",
       "      <td>Apples to Apples</td>\n",
       "      <td>$26.99</td>\n",
       "      <td>$24.29</td>\n",
       "      <td>Ages 12+</td>\n",
       "      <td>4-10 players</td>\n",
       "      <td>30 min.</td>\n",
       "      <td>Apples to Apples is THE easy to learn, laugh o...</td>\n",
       "    </tr>\n",
       "    <tr>\n",
       "      <th>7</th>\n",
       "      <td>Awesome Kingdom: Tower of Hateskull</td>\n",
       "      <td>$29.99</td>\n",
       "      <td>$26.99</td>\n",
       "      <td>Ages 10+</td>\n",
       "      <td>2-4 players</td>\n",
       "      <td>30-45 min.</td>\n",
       "      <td>Compete to be the most Awesome adventurer in t...</td>\n",
       "    </tr>\n",
       "    <tr>\n",
       "      <th>8</th>\n",
       "      <td>Arkham Horror</td>\n",
       "      <td>$59.95</td>\n",
       "      <td>$53.96</td>\n",
       "      <td>Ages 12+</td>\n",
       "      <td>1-8 players</td>\n",
       "      <td>2-6 hours</td>\n",
       "      <td>It is the 1920's and unnatural things are happ...</td>\n",
       "    </tr>\n",
       "    <tr>\n",
       "      <th>9</th>\n",
       "      <td>Better Me</td>\n",
       "      <td>$80.00</td>\n",
       "      <td>$54.95</td>\n",
       "      <td>Ages 12+</td>\n",
       "      <td>2-8 players</td>\n",
       "      <td>30-180 min.</td>\n",
       "      <td>If you are looking for a meaningful game, Bett...</td>\n",
       "    </tr>\n",
       "    <tr>\n",
       "      <th>10</th>\n",
       "      <td>Bachelorette Drink or Dare Dice</td>\n",
       "      <td>No sale</td>\n",
       "      <td>$6.00</td>\n",
       "      <td>Ages 21+</td>\n",
       "      <td>2+ players</td>\n",
       "      <td>10 min.</td>\n",
       "      <td>Because drinks and games are great together, g...</td>\n",
       "    </tr>\n",
       "    <tr>\n",
       "      <th>11</th>\n",
       "      <td>Betrayal at House on the Hill</td>\n",
       "      <td>$49.99</td>\n",
       "      <td>$42.99</td>\n",
       "      <td>Ages 12+</td>\n",
       "      <td>3-6 players</td>\n",
       "      <td>1 hour</td>\n",
       "      <td>Betrayal at House on the Hill is a (mostly) co...</td>\n",
       "    </tr>\n",
       "    <tr>\n",
       "      <th>12</th>\n",
       "      <td>Boss Monster</td>\n",
       "      <td>$24.99</td>\n",
       "      <td>$22.49</td>\n",
       "      <td>Ages 13+</td>\n",
       "      <td>2-4 players</td>\n",
       "      <td>20 min.</td>\n",
       "      <td>Boss Monster is a card game packed with nostal...</td>\n",
       "    </tr>\n",
       "    <tr>\n",
       "      <th>13</th>\n",
       "      <td>Blood Rage</td>\n",
       "      <td>$79.99</td>\n",
       "      <td>$72.95</td>\n",
       "      <td>Ages 14+</td>\n",
       "      <td>2-4 players</td>\n",
       "      <td>1-1.5 hours</td>\n",
       "      <td>Take control of Viking clans in Blood Rage to ...</td>\n",
       "    </tr>\n",
       "    <tr>\n",
       "      <th>14</th>\n",
       "      <td>Boss Monster 2: The Next Level</td>\n",
       "      <td>$24.99</td>\n",
       "      <td>$22.49</td>\n",
       "      <td>Ages 13+</td>\n",
       "      <td>2-4 players</td>\n",
       "      <td>20-30 min.</td>\n",
       "      <td>Boss Monster 2 continues to pay a tribute to t...</td>\n",
       "    </tr>\n",
       "    <tr>\n",
       "      <th>15</th>\n",
       "      <td>Buffy The Vampire Slayer: The Board Game</td>\n",
       "      <td>$39.99</td>\n",
       "      <td>$35.96</td>\n",
       "      <td>10 &amp; up</td>\n",
       "      <td>1 to 6</td>\n",
       "      <td>40-60 minutes</td>\n",
       "      <td>In Buffy the Vampire Slayer: The Board Game, y...</td>\n",
       "    </tr>\n",
       "    <tr>\n",
       "      <th>16</th>\n",
       "      <td>Cash 'N Guns</td>\n",
       "      <td>$39.99</td>\n",
       "      <td>$37.99</td>\n",
       "      <td>Ages 10+</td>\n",
       "      <td>4-8 players</td>\n",
       "      <td>30 min.</td>\n",
       "      <td>The heist is successful, but your band of gang...</td>\n",
       "    </tr>\n",
       "    <tr>\n",
       "      <th>17</th>\n",
       "      <td>Cartoon Network Crossover Crisis Deck-Building...</td>\n",
       "      <td>$39.99</td>\n",
       "      <td>$35.99</td>\n",
       "      <td>Ages 12+</td>\n",
       "      <td>2-5 players</td>\n",
       "      <td>30-45 min.</td>\n",
       "      <td>Cartoon Network's baddest adversaries are loos...</td>\n",
       "    </tr>\n",
       "    <tr>\n",
       "      <th>18</th>\n",
       "      <td>Candy Land</td>\n",
       "      <td>$10.99</td>\n",
       "      <td>$9.89</td>\n",
       "      <td>Ages 3+</td>\n",
       "      <td>2-4 players</td>\n",
       "      <td>30 min.</td>\n",
       "      <td>Candy Land is the classic, simple children's b...</td>\n",
       "    </tr>\n",
       "    <tr>\n",
       "      <th>19</th>\n",
       "      <td>Cat Tower</td>\n",
       "      <td>$19.99</td>\n",
       "      <td>$17.99</td>\n",
       "      <td>Ages 6+</td>\n",
       "      <td>2-6 players</td>\n",
       "      <td>15-20 min.</td>\n",
       "      <td>Love Jenga? Or cats? How about playing with BO...</td>\n",
       "    </tr>\n",
       "    <tr>\n",
       "      <th>20</th>\n",
       "      <td>Censored Game</td>\n",
       "      <td>$25.00</td>\n",
       "      <td>$23.50</td>\n",
       "      <td>Ages 18+</td>\n",
       "      <td>4+ players</td>\n",
       "      <td>30 min.</td>\n",
       "      <td>The Censored Game takes popular elements of ga...</td>\n",
       "    </tr>\n",
       "    <tr>\n",
       "      <th>21</th>\n",
       "      <td>Chutes and Ladders</td>\n",
       "      <td>$10.99</td>\n",
       "      <td>$9.89</td>\n",
       "      <td>Ages 3+</td>\n",
       "      <td>2-4 players</td>\n",
       "      <td>15 min.</td>\n",
       "      <td>Chutes and Ladders is a great and easy game fo...</td>\n",
       "    </tr>\n",
       "    <tr>\n",
       "      <th>22</th>\n",
       "      <td>Chronology</td>\n",
       "      <td>$19.99</td>\n",
       "      <td>$17.96</td>\n",
       "      <td>Ages 12+</td>\n",
       "      <td>2-8 players</td>\n",
       "      <td>30 min.</td>\n",
       "      <td>Think you know your historical events? Put you...</td>\n",
       "    </tr>\n",
       "    <tr>\n",
       "      <th>23</th>\n",
       "      <td>Codenames Pictures</td>\n",
       "      <td>$19.99</td>\n",
       "      <td>$17.99</td>\n",
       "      <td>Ages 14+</td>\n",
       "      <td>2-8 players</td>\n",
       "      <td>15-30 min.</td>\n",
       "      <td>Codenames Pictures takes the original party ga...</td>\n",
       "    </tr>\n",
       "    <tr>\n",
       "      <th>24</th>\n",
       "      <td>Clubs Card Game</td>\n",
       "      <td>$14.99</td>\n",
       "      <td>$11.99</td>\n",
       "      <td>Ages 8+</td>\n",
       "      <td>2-6 players</td>\n",
       "      <td>30 min.</td>\n",
       "      <td>Clubs is a card game in which players try to w...</td>\n",
       "    </tr>\n",
       "    <tr>\n",
       "      <th>25</th>\n",
       "      <td>Clank! A Deck Building Adventure</td>\n",
       "      <td>$59.99</td>\n",
       "      <td>$51.99</td>\n",
       "      <td>12 &amp; up</td>\n",
       "      <td>1 to 4</td>\n",
       "      <td>30-60 minutes</td>\n",
       "      <td>Burgle your way to adventure in the deck-build...</td>\n",
       "    </tr>\n",
       "    <tr>\n",
       "      <th>26</th>\n",
       "      <td>Council of Verona</td>\n",
       "      <td>$19.99</td>\n",
       "      <td>$17.99</td>\n",
       "      <td>Ages 13+</td>\n",
       "      <td>2-5 players</td>\n",
       "      <td>20 min.</td>\n",
       "      <td>Council of Verona is a role-playing game where...</td>\n",
       "    </tr>\n",
       "    <tr>\n",
       "      <th>27</th>\n",
       "      <td>Codenames: Duet</td>\n",
       "      <td>$19.99</td>\n",
       "      <td>$17.99</td>\n",
       "      <td>11 &amp; up</td>\n",
       "      <td>2 to 4</td>\n",
       "      <td>15-30 minutes</td>\n",
       "      <td>Codenames Duet keeps the basic elements of Cod...</td>\n",
       "    </tr>\n",
       "    <tr>\n",
       "      <th>28</th>\n",
       "      <td>Colt Express</td>\n",
       "      <td>$39.99</td>\n",
       "      <td>$34.99</td>\n",
       "      <td>Ages 10+</td>\n",
       "      <td>2-6 players</td>\n",
       "      <td>30-40 min.</td>\n",
       "      <td>Welcome aboard the Colt Express! Play as a rut...</td>\n",
       "    </tr>\n",
       "    <tr>\n",
       "      <th>29</th>\n",
       "      <td>Coup</td>\n",
       "      <td>$14.99</td>\n",
       "      <td>$13.49</td>\n",
       "      <td>Ages 9+</td>\n",
       "      <td>2-6 players</td>\n",
       "      <td>15 min.</td>\n",
       "      <td>The Resistance has brought the government to t...</td>\n",
       "    </tr>\n",
       "    <tr>\n",
       "      <th>30</th>\n",
       "      <td>Dancing Eggs</td>\n",
       "      <td>$20.00</td>\n",
       "      <td>$18.00</td>\n",
       "      <td>Ages 5+</td>\n",
       "      <td>4+ players</td>\n",
       "      <td>30 min.</td>\n",
       "      <td>Dancing Eggs is a children's party game where ...</td>\n",
       "    </tr>\n",
       "    <tr>\n",
       "      <th>31</th>\n",
       "      <td>Council of Verona: Corruption Expansion</td>\n",
       "      <td>$12.99</td>\n",
       "      <td>$9.99</td>\n",
       "      <td>Ages 13+</td>\n",
       "      <td>2-5 players</td>\n",
       "      <td>20 min.</td>\n",
       "      <td>Council of Verona: Corruption is an expansion ...</td>\n",
       "    </tr>\n",
       "    <tr>\n",
       "      <th>32</th>\n",
       "      <td>Djubi Game</td>\n",
       "      <td>$25.99</td>\n",
       "      <td>$19.99</td>\n",
       "      <td>Ages 8+</td>\n",
       "      <td>2 players</td>\n",
       "      <td>--</td>\n",
       "      <td>Djubi is an outdoor toy that adds a twist on t...</td>\n",
       "    </tr>\n",
       "    <tr>\n",
       "      <th>33</th>\n",
       "      <td>Dominion</td>\n",
       "      <td>$44.99</td>\n",
       "      <td>$40.49</td>\n",
       "      <td>Ages 13+</td>\n",
       "      <td>2-4 players</td>\n",
       "      <td>30 min.</td>\n",
       "      <td>This award-winning card game is great for thos...</td>\n",
       "    </tr>\n",
       "    <tr>\n",
       "      <th>34</th>\n",
       "      <td>Don't Be A Loser</td>\n",
       "      <td>$29.99</td>\n",
       "      <td>$21.99</td>\n",
       "      <td>Ages 13+</td>\n",
       "      <td>4-10 players</td>\n",
       "      <td>30 min.</td>\n",
       "      <td>Don't Be a Loser is a fun party game where you...</td>\n",
       "    </tr>\n",
       "    <tr>\n",
       "      <th>35</th>\n",
       "      <td>Don't Be A Loser Adult Expansion</td>\n",
       "      <td>$19.99</td>\n",
       "      <td>$14.99</td>\n",
       "      <td>Ages 13+</td>\n",
       "      <td>4-10 players</td>\n",
       "      <td>30 min.</td>\n",
       "      <td>Are you and your friends a little unusual? Do ...</td>\n",
       "    </tr>\n",
       "    <tr>\n",
       "      <th>36</th>\n",
       "      <td>Dr. Beaker</td>\n",
       "      <td>$19.99</td>\n",
       "      <td>$17.99</td>\n",
       "      <td>Ages 8+</td>\n",
       "      <td>2-4 players</td>\n",
       "      <td>15 min.</td>\n",
       "      <td>Stir up excitement in Dr. Beaker's laboratory!...</td>\n",
       "    </tr>\n",
       "    <tr>\n",
       "      <th>37</th>\n",
       "      <td>Dr. Eureka Speed Logic Game</td>\n",
       "      <td>$19.99</td>\n",
       "      <td>$17.99</td>\n",
       "      <td>Ages 8+</td>\n",
       "      <td>1-4 players</td>\n",
       "      <td>15 min.</td>\n",
       "      <td>Help Dr. Eureka complete experiments without d...</td>\n",
       "    </tr>\n",
       "    <tr>\n",
       "      <th>38</th>\n",
       "      <td>Dr. Microbe</td>\n",
       "      <td>$21.99</td>\n",
       "      <td>$19.99</td>\n",
       "      <td>Ages 8+</td>\n",
       "      <td>2-4 players</td>\n",
       "      <td>15 min.</td>\n",
       "      <td>Help Dr. Microbe complete her research with yo...</td>\n",
       "    </tr>\n",
       "    <tr>\n",
       "      <th>39</th>\n",
       "      <td>Drunk Quest</td>\n",
       "      <td>$34.95</td>\n",
       "      <td>$28.74</td>\n",
       "      <td>Ages 21+</td>\n",
       "      <td>3-6 players</td>\n",
       "      <td>20 min.</td>\n",
       "      <td>Drunk Quest is a fantasy-based competitive dri...</td>\n",
       "    </tr>\n",
       "    <tr>\n",
       "      <th>40</th>\n",
       "      <td>Escape: Zombie City</td>\n",
       "      <td>$59.95</td>\n",
       "      <td>$53.95</td>\n",
       "      <td>10 &amp; up</td>\n",
       "      <td>2 to 4</td>\n",
       "      <td>15 minutes</td>\n",
       "      <td>In Escape: Zombie City, you and your fellow pl...</td>\n",
       "    </tr>\n",
       "    <tr>\n",
       "      <th>41</th>\n",
       "      <td>Flick 'Em Up</td>\n",
       "      <td>$69.95</td>\n",
       "      <td>$62.99</td>\n",
       "      <td>Ages 7+</td>\n",
       "      <td>2-10 players</td>\n",
       "      <td>30-45 min.</td>\n",
       "      <td>Shoot down the bad guys! Oh, I mean 'flick' do...</td>\n",
       "    </tr>\n",
       "    <tr>\n",
       "      <th>42</th>\n",
       "      <td>Flip Tricks</td>\n",
       "      <td>No sale</td>\n",
       "      <td>$14.99</td>\n",
       "      <td>Ages 8+</td>\n",
       "      <td>1+ players</td>\n",
       "      <td>5-15 min.</td>\n",
       "      <td>Bottle flipping has always been around, but wh...</td>\n",
       "    </tr>\n",
       "    <tr>\n",
       "      <th>43</th>\n",
       "      <td>Forbidden Desert</td>\n",
       "      <td>$26.99</td>\n",
       "      <td>$24.29</td>\n",
       "      <td>Ages 10+</td>\n",
       "      <td>2-4 players</td>\n",
       "      <td>10 min.</td>\n",
       "      <td>Help the kiwis go on vacation by sneaking them...</td>\n",
       "    </tr>\n",
       "    <tr>\n",
       "      <th>44</th>\n",
       "      <td>Flying Kiwis</td>\n",
       "      <td>$19.99</td>\n",
       "      <td>$17.99</td>\n",
       "      <td>Ages 5+</td>\n",
       "      <td>2-5 players</td>\n",
       "      <td>45 min.</td>\n",
       "      <td>This cooperative board game will test your ski...</td>\n",
       "    </tr>\n",
       "    <tr>\n",
       "      <th>45</th>\n",
       "      <td>Friday</td>\n",
       "      <td>$19.99</td>\n",
       "      <td>$15.99</td>\n",
       "      <td>Ages 13+</td>\n",
       "      <td>1 players</td>\n",
       "      <td>25 min.</td>\n",
       "      <td>Friday is a single-player strategy game where ...</td>\n",
       "    </tr>\n",
       "    <tr>\n",
       "      <th>46</th>\n",
       "      <td>Ghostbusters: The Board Game</td>\n",
       "      <td>$85.00</td>\n",
       "      <td>$76.50</td>\n",
       "      <td>15 &amp; up</td>\n",
       "      <td>1 to 4</td>\n",
       "      <td>30-120 minutes</td>\n",
       "      <td>Ghostbusters: The Board Game is an episodic ad...</td>\n",
       "    </tr>\n",
       "    <tr>\n",
       "      <th>47</th>\n",
       "      <td>FUSE</td>\n",
       "      <td>$30.00</td>\n",
       "      <td>$27.00</td>\n",
       "      <td>Ages 10+</td>\n",
       "      <td>1-5 players</td>\n",
       "      <td>10 min.</td>\n",
       "      <td>Oh no! Intruders have left bombs on board of y...</td>\n",
       "    </tr>\n",
       "    <tr>\n",
       "      <th>48</th>\n",
       "      <td>Gloom</td>\n",
       "      <td>$24.99</td>\n",
       "      <td>$22.49</td>\n",
       "      <td>Ages 13+</td>\n",
       "      <td>2-5 players</td>\n",
       "      <td>60 min.</td>\n",
       "      <td>Gloom is a card game with an unusual premise w...</td>\n",
       "    </tr>\n",
       "    <tr>\n",
       "      <th>49</th>\n",
       "      <td>Go Go Gelato!</td>\n",
       "      <td>$19.99</td>\n",
       "      <td>$17.99</td>\n",
       "      <td>Ages 6+</td>\n",
       "      <td>2-4 players</td>\n",
       "      <td>15 min.</td>\n",
       "      <td>Scoop the correct Gelato as quickly as you can...</td>\n",
       "    </tr>\n",
       "  </tbody>\n",
       "</table>\n",
       "</div>"
      ],
      "text/plain": [
       "                                            Game Name Original Price  \\\n",
       "0                                  #Alternative Facts         $10.00   \n",
       "1                13 Minutes: The Cuban Missile Crisis         $10.99   \n",
       "2                                    Abracada...What?         $34.99   \n",
       "3                 Angry Birds Chutes & Ladders Editon         $19.99   \n",
       "4                                          Animal Act         $19.95   \n",
       "5             Among The Stars: Expanding the Alliance         $29.95   \n",
       "6                                    Apples to Apples         $26.99   \n",
       "7                 Awesome Kingdom: Tower of Hateskull         $29.99   \n",
       "8                                       Arkham Horror         $59.95   \n",
       "9                                           Better Me         $80.00   \n",
       "10                    Bachelorette Drink or Dare Dice        No sale   \n",
       "11                      Betrayal at House on the Hill         $49.99   \n",
       "12                                       Boss Monster         $24.99   \n",
       "13                                         Blood Rage         $79.99   \n",
       "14                     Boss Monster 2: The Next Level         $24.99   \n",
       "15           Buffy The Vampire Slayer: The Board Game         $39.99   \n",
       "16                                       Cash 'N Guns         $39.99   \n",
       "17  Cartoon Network Crossover Crisis Deck-Building...         $39.99   \n",
       "18                                         Candy Land         $10.99   \n",
       "19                                          Cat Tower         $19.99   \n",
       "20                                      Censored Game         $25.00   \n",
       "21                                 Chutes and Ladders         $10.99   \n",
       "22                                         Chronology         $19.99   \n",
       "23                                 Codenames Pictures         $19.99   \n",
       "24                                    Clubs Card Game         $14.99   \n",
       "25                   Clank! A Deck Building Adventure         $59.99   \n",
       "26                                  Council of Verona         $19.99   \n",
       "27                                    Codenames: Duet         $19.99   \n",
       "28                                       Colt Express         $39.99   \n",
       "29                                               Coup         $14.99   \n",
       "30                                       Dancing Eggs         $20.00   \n",
       "31            Council of Verona: Corruption Expansion         $12.99   \n",
       "32                                         Djubi Game         $25.99   \n",
       "33                                           Dominion         $44.99   \n",
       "34                                   Don't Be A Loser         $29.99   \n",
       "35                   Don't Be A Loser Adult Expansion         $19.99   \n",
       "36                                         Dr. Beaker         $19.99   \n",
       "37                        Dr. Eureka Speed Logic Game         $19.99   \n",
       "38                                        Dr. Microbe         $21.99   \n",
       "39                                        Drunk Quest         $34.95   \n",
       "40                                Escape: Zombie City         $59.95   \n",
       "41                                       Flick 'Em Up         $69.95   \n",
       "42                                        Flip Tricks        No sale   \n",
       "43                                   Forbidden Desert         $26.99   \n",
       "44                                       Flying Kiwis         $19.99   \n",
       "45                                             Friday         $19.99   \n",
       "46                       Ghostbusters: The Board Game         $85.00   \n",
       "47                                               FUSE         $30.00   \n",
       "48                                              Gloom         $24.99   \n",
       "49                                      Go Go Gelato!         $19.99   \n",
       "\n",
       "   Current Price Age of Players Number of Players        Play Time  \\\n",
       "0          $9.00       Ages 14+       2-6 players        15-30 min   \n",
       "1          $9.89       Ages 10+         2 players          13 min.   \n",
       "2         $31.49        Ages 8+       2-5 players       20-30 min.   \n",
       "3         $17.99        Ages 3+       2-6 players          30 min.   \n",
       "4         $17.95        Ages 4+      2-12 players          15 min.   \n",
       "5         $27.99       Ages 12+       2-4 players          30 min.   \n",
       "6         $24.29       Ages 12+      4-10 players          30 min.   \n",
       "7         $26.99       Ages 10+       2-4 players       30-45 min.   \n",
       "8         $53.96       Ages 12+       1-8 players        2-6 hours   \n",
       "9         $54.95       Ages 12+       2-8 players      30-180 min.   \n",
       "10         $6.00       Ages 21+        2+ players          10 min.   \n",
       "11        $42.99       Ages 12+       3-6 players           1 hour   \n",
       "12        $22.49       Ages 13+       2-4 players          20 min.   \n",
       "13        $72.95       Ages 14+       2-4 players      1-1.5 hours   \n",
       "14        $22.49       Ages 13+       2-4 players       20-30 min.   \n",
       "15        $35.96        10 & up            1 to 6    40-60 minutes   \n",
       "16        $37.99       Ages 10+       4-8 players          30 min.   \n",
       "17        $35.99       Ages 12+       2-5 players       30-45 min.   \n",
       "18         $9.89        Ages 3+       2-4 players          30 min.   \n",
       "19        $17.99        Ages 6+       2-6 players       15-20 min.   \n",
       "20        $23.50       Ages 18+        4+ players          30 min.   \n",
       "21         $9.89        Ages 3+       2-4 players          15 min.   \n",
       "22        $17.96       Ages 12+       2-8 players          30 min.   \n",
       "23        $17.99       Ages 14+       2-8 players       15-30 min.   \n",
       "24        $11.99        Ages 8+       2-6 players          30 min.   \n",
       "25        $51.99        12 & up            1 to 4    30-60 minutes   \n",
       "26        $17.99       Ages 13+       2-5 players          20 min.   \n",
       "27        $17.99        11 & up            2 to 4    15-30 minutes   \n",
       "28        $34.99       Ages 10+       2-6 players       30-40 min.   \n",
       "29        $13.49        Ages 9+       2-6 players          15 min.   \n",
       "30        $18.00        Ages 5+        4+ players          30 min.   \n",
       "31         $9.99       Ages 13+       2-5 players          20 min.   \n",
       "32        $19.99        Ages 8+         2 players               --   \n",
       "33        $40.49       Ages 13+       2-4 players          30 min.   \n",
       "34        $21.99       Ages 13+      4-10 players          30 min.   \n",
       "35        $14.99       Ages 13+      4-10 players          30 min.   \n",
       "36        $17.99        Ages 8+       2-4 players          15 min.   \n",
       "37        $17.99        Ages 8+       1-4 players          15 min.   \n",
       "38        $19.99        Ages 8+       2-4 players          15 min.   \n",
       "39        $28.74       Ages 21+       3-6 players          20 min.   \n",
       "40        $53.95        10 & up            2 to 4       15 minutes   \n",
       "41        $62.99        Ages 7+      2-10 players       30-45 min.   \n",
       "42        $14.99        Ages 8+        1+ players        5-15 min.   \n",
       "43        $24.29       Ages 10+       2-4 players          10 min.   \n",
       "44        $17.99        Ages 5+       2-5 players          45 min.   \n",
       "45        $15.99       Ages 13+         1 players          25 min.   \n",
       "46        $76.50        15 & up            1 to 4   30-120 minutes   \n",
       "47        $27.00       Ages 10+       1-5 players          10 min.   \n",
       "48        $22.49       Ages 13+       2-5 players          60 min.   \n",
       "49        $17.99        Ages 6+       2-4 players          15 min.   \n",
       "\n",
       "                                          Description  \n",
       "0   What's more fun than making up click-baiting h...  \n",
       "1   13 Minutes: The Cuban Missile Crisis is a card...  \n",
       "2   Abracada...what? is an exciting deduction game...  \n",
       "3   The classic Chutes and Ladders game with an An...  \n",
       "4   Animal Act is a game that encourages kids to f...  \n",
       "5   The second expansion for Among The Stars! Assu...  \n",
       "6   Apples to Apples is THE easy to learn, laugh o...  \n",
       "7   Compete to be the most Awesome adventurer in t...  \n",
       "8   It is the 1920's and unnatural things are happ...  \n",
       "9   If you are looking for a meaningful game, Bett...  \n",
       "10  Because drinks and games are great together, g...  \n",
       "11  Betrayal at House on the Hill is a (mostly) co...  \n",
       "12  Boss Monster is a card game packed with nostal...  \n",
       "13  Take control of Viking clans in Blood Rage to ...  \n",
       "14  Boss Monster 2 continues to pay a tribute to t...  \n",
       "15  In Buffy the Vampire Slayer: The Board Game, y...  \n",
       "16  The heist is successful, but your band of gang...  \n",
       "17  Cartoon Network's baddest adversaries are loos...  \n",
       "18  Candy Land is the classic, simple children's b...  \n",
       "19  Love Jenga? Or cats? How about playing with BO...  \n",
       "20  The Censored Game takes popular elements of ga...  \n",
       "21  Chutes and Ladders is a great and easy game fo...  \n",
       "22  Think you know your historical events? Put you...  \n",
       "23  Codenames Pictures takes the original party ga...  \n",
       "24  Clubs is a card game in which players try to w...  \n",
       "25  Burgle your way to adventure in the deck-build...  \n",
       "26  Council of Verona is a role-playing game where...  \n",
       "27  Codenames Duet keeps the basic elements of Cod...  \n",
       "28  Welcome aboard the Colt Express! Play as a rut...  \n",
       "29  The Resistance has brought the government to t...  \n",
       "30  Dancing Eggs is a children's party game where ...  \n",
       "31  Council of Verona: Corruption is an expansion ...  \n",
       "32  Djubi is an outdoor toy that adds a twist on t...  \n",
       "33  This award-winning card game is great for thos...  \n",
       "34  Don't Be a Loser is a fun party game where you...  \n",
       "35  Are you and your friends a little unusual? Do ...  \n",
       "36  Stir up excitement in Dr. Beaker's laboratory!...  \n",
       "37  Help Dr. Eureka complete experiments without d...  \n",
       "38  Help Dr. Microbe complete her research with yo...  \n",
       "39  Drunk Quest is a fantasy-based competitive dri...  \n",
       "40  In Escape: Zombie City, you and your fellow pl...  \n",
       "41  Shoot down the bad guys! Oh, I mean 'flick' do...  \n",
       "42  Bottle flipping has always been around, but wh...  \n",
       "43  Help the kiwis go on vacation by sneaking them...  \n",
       "44  This cooperative board game will test your ski...  \n",
       "45  Friday is a single-player strategy game where ...  \n",
       "46  Ghostbusters: The Board Game is an episodic ad...  \n",
       "47  Oh no! Intruders have left bombs on board of y...  \n",
       "48  Gloom is a card game with an unusual premise w...  \n",
       "49  Scoop the correct Gelato as quickly as you can...  "
      ]
     },
     "execution_count": 54,
     "metadata": {},
     "output_type": "execute_result"
    }
   ],
   "source": [
    "Games_DF = pd.concat([list_names, list_original_prices,list_current_prices, list_age, list_players, list_play_time, list_description],\n",
    "                     axis = 1, ignore_index=True)\n",
    "Games_DF.columns = [\"Game Name\",\n",
    "                   \"Original Price\",\n",
    "                   \"Current Price\",\n",
    "                   \"Age of Players\",\n",
    "                   \"Number of Players\", \n",
    "                   \"Play Time\",\n",
    "                   \"Description\"]\n",
    "Games_DF"
   ]
  },
  {
   "cell_type": "code",
   "execution_count": 44,
   "metadata": {},
   "outputs": [],
   "source": [
    "Games_DF.to_csv(\"Board_Games\")"
   ]
  },
  {
   "cell_type": "markdown",
   "metadata": {},
   "source": [
    "# Enjoy :)"
   ]
  },
  {
   "cell_type": "markdown",
   "metadata": {},
   "source": [
    "## The paralisation has contributed to a high speed of the scraping."
   ]
  },
  {
   "cell_type": "code",
   "execution_count": null,
   "metadata": {},
   "outputs": [],
   "source": []
  }
 ],
 "metadata": {
  "kernelspec": {
   "display_name": "Python 3",
   "language": "python",
   "name": "python3"
  },
  "language_info": {
   "codemirror_mode": {
    "name": "ipython",
    "version": 3
   },
   "file_extension": ".py",
   "mimetype": "text/x-python",
   "name": "python",
   "nbconvert_exporter": "python",
   "pygments_lexer": "ipython3",
   "version": "3.6.6"
  }
 },
 "nbformat": 4,
 "nbformat_minor": 2
}
